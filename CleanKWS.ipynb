{
  "nbformat": 4,
  "nbformat_minor": 0,
  "metadata": {
    "accelerator": "GPU",
    "colab": {
      "name": "CleanKWS.ipynb",
      "provenance": [],
      "collapsed_sections": [
        "_Tl0tVPpk1ic"
      ],
      "include_colab_link": true
    },
    "kernelspec": {
      "display_name": "Python 3 (ipykernel)",
      "language": "python",
      "name": "python3"
    },
    "language_info": {
      "codemirror_mode": {
        "name": "ipython",
        "version": 3
      },
      "file_extension": ".py",
      "mimetype": "text/x-python",
      "name": "python",
      "nbconvert_exporter": "python",
      "pygments_lexer": "ipython3",
      "version": "3.8.12"
    }
  },
  "cells": [
    {
      "cell_type": "markdown",
      "metadata": {
        "id": "view-in-github",
        "colab_type": "text"
      },
      "source": [
        "<a href=\"https://colab.research.google.com/github/quynhu-d/kws/blob/main/CleanKWS.ipynb\" target=\"_parent\"><img src=\"https://colab.research.google.com/assets/colab-badge.svg\" alt=\"Open In Colab\"/></a>"
      ]
    },
    {
      "cell_type": "markdown",
      "metadata": {
        "id": "_lhrn5O-qUYZ"
      },
      "source": [
        "# Import and misc"
      ]
    },
    {
      "cell_type": "code",
      "metadata": {
        "colab": {
          "base_uri": "https://localhost:8080/"
        },
        "id": "IQhn7pUbAkAz",
        "outputId": "a6bcc67f-c674-453c-9ade-8750f47cd349"
      },
      "source": [
        "!git clone https://github.com/quynhu-d/kws"
      ],
      "execution_count": null,
      "outputs": [
        {
          "output_type": "stream",
          "name": "stdout",
          "text": [
            "Cloning into 'kws'...\n",
            "remote: Enumerating objects: 35, done.\u001b[K\n",
            "remote: Counting objects: 100% (35/35), done.\u001b[K\n",
            "remote: Compressing objects: 100% (31/31), done.\u001b[K\n",
            "remote: Total 35 (delta 8), reused 9 (delta 2), pack-reused 0\u001b[K\n",
            "Unpacking objects: 100% (35/35), done.\n"
          ]
        }
      ]
    },
    {
      "cell_type": "code",
      "metadata": {
        "colab": {
          "base_uri": "https://localhost:8080/"
        },
        "id": "meO-Mp9jiAFC",
        "outputId": "93ae7c0b-a2f9-4dc3-b98c-7251b157ca11"
      },
      "source": [
        "!pip install torchaudio==0.9.1"
      ],
      "execution_count": 37,
      "outputs": [
        {
          "output_type": "stream",
          "name": "stdout",
          "text": [
            "Collecting torchaudio==0.9.1\n",
            "  Downloading torchaudio-0.9.1-cp37-cp37m-manylinux1_x86_64.whl (1.9 MB)\n",
            "\u001b[K     |████████████████████████████████| 1.9 MB 5.1 MB/s \n",
            "\u001b[?25hCollecting torch==1.9.1\n",
            "  Downloading torch-1.9.1-cp37-cp37m-manylinux1_x86_64.whl (831.4 MB)\n",
            "\u001b[K     |████████████████████████████████| 831.4 MB 5.9 kB/s \n",
            "\u001b[?25hRequirement already satisfied: typing-extensions in /usr/local/lib/python3.7/dist-packages (from torch==1.9.1->torchaudio==0.9.1) (3.10.0.2)\n",
            "Installing collected packages: torch, torchaudio\n",
            "  Attempting uninstall: torch\n",
            "    Found existing installation: torch 1.10.0+cu111\n",
            "    Uninstalling torch-1.10.0+cu111:\n",
            "      Successfully uninstalled torch-1.10.0+cu111\n",
            "  Attempting uninstall: torchaudio\n",
            "    Found existing installation: torchaudio 0.10.0+cu111\n",
            "    Uninstalling torchaudio-0.10.0+cu111:\n",
            "      Successfully uninstalled torchaudio-0.10.0+cu111\n",
            "\u001b[31mERROR: pip's dependency resolver does not currently take into account all the packages that are installed. This behaviour is the source of the following dependency conflicts.\n",
            "torchvision 0.11.1+cu111 requires torch==1.10.0, but you have torch 1.9.1 which is incompatible.\n",
            "torchtext 0.11.0 requires torch==1.10.0, but you have torch 1.9.1 which is incompatible.\u001b[0m\n",
            "Successfully installed torch-1.9.1 torchaudio-0.9.1\n"
          ]
        }
      ]
    },
    {
      "cell_type": "code",
      "metadata": {
        "id": "bbUpoArCqUYa"
      },
      "source": [
        "from typing import Tuple, Union, List, Callable, Optional\n",
        "from tqdm import tqdm\n",
        "from itertools import islice\n",
        "import pathlib\n",
        "import dataclasses\n",
        "\n",
        "import numpy as np\n",
        "import pandas as pd\n",
        "\n",
        "import torch\n",
        "import torch.nn.functional as F\n",
        "from torch import nn\n",
        "from torch import distributions\n",
        "from torch.utils.data import DataLoader, Dataset, WeightedRandomSampler\n",
        "from torch.nn.utils.rnn import pad_sequence\n",
        "\n",
        "import torchaudio\n",
        "from IPython import display as display_"
      ],
      "execution_count": 38,
      "outputs": []
    },
    {
      "cell_type": "code",
      "metadata": {
        "id": "Itvlp56FvjOT"
      },
      "source": [
        "import torch\n",
        "import random\n",
        "import numpy as np\n",
        "\n",
        "torch.manual_seed(47)\n",
        "random.seed(47)\n",
        "np.random.seed(47)"
      ],
      "execution_count": 39,
      "outputs": []
    },
    {
      "cell_type": "markdown",
      "metadata": {
        "id": "812GwLfqqUYf"
      },
      "source": [
        "# Task"
      ]
    },
    {
      "cell_type": "markdown",
      "metadata": {
        "id": "i1DuQIyRqUYf"
      },
      "source": [
        "In this notebook we will implement a model for finding a keyword in a stream.\n",
        "\n",
        "We will implement the version with CRNN because it is easy and improves the model. \n",
        "(from https://www.dropbox.com/s/22ah2ba7dug6pzw/KWS_Attention.pdf)"
      ]
    },
    {
      "cell_type": "code",
      "metadata": {
        "id": "8PdhApeEh9pH"
      },
      "source": [
        "@dataclasses.dataclass\n",
        "class TaskConfig:\n",
        "    keyword: str = 'sheila'  # We will use 1 key word -- 'sheila'\n",
        "    batch_size: int = 128\n",
        "    learning_rate: float = 3e-4\n",
        "    weight_decay: float = 1e-5\n",
        "    num_epochs: int = 20\n",
        "    n_mels: int = 40\n",
        "    cnn_out_channels: int = 8\n",
        "    kernel_size: Tuple[int, int] = (5, 20)\n",
        "    stride: Tuple[int, int] = (2, 8)\n",
        "    hidden_size: int = 64\n",
        "    gru_num_layers: int = 2\n",
        "    bidirectional: bool = False\n",
        "    num_classes: int = 2\n",
        "    sample_rate: int = 16000\n",
        "    device: torch.device = torch.device(\n",
        "        'cuda:0' if torch.cuda.is_available() else 'cpu')"
      ],
      "execution_count": 40,
      "outputs": []
    },
    {
      "cell_type": "code",
      "metadata": {
        "colab": {
          "base_uri": "https://localhost:8080/"
        },
        "id": "sodUd4uWHkP2",
        "outputId": "ba650250-b936-462a-b37d-2de775d50946"
      },
      "source": [
        "from google.colab import drive\n",
        "drive.mount('/content/drive')"
      ],
      "execution_count": null,
      "outputs": [
        {
          "output_type": "stream",
          "name": "stdout",
          "text": [
            "Mounted at /content/drive\n"
          ]
        }
      ]
    },
    {
      "cell_type": "markdown",
      "metadata": {
        "id": "KA1gPmE1h9pI"
      },
      "source": [
        "# Data"
      ]
    },
    {
      "cell_type": "code",
      "metadata": {
        "id": "Y2N8zcx9MF1X"
      },
      "source": [
        "#!wget http://download.tensorflow.org/data/speech_commands_v0.01.tar.gz -O speech_commands_v0.01.tar.gz\n",
        "#!mkdir speech_commands && tar -C speech_commands -xvzf speech_commands_v0.01.tar.gz 1> log\n",
        "!mkdir speech_commands && tar -C speech_commands -xvzf /content/drive/MyDrive/Colab\\ Notebooks/DLA/KWS/speech_commands_v0.01.tar.gz 1> log"
      ],
      "execution_count": 46,
      "outputs": []
    },
    {
      "cell_type": "code",
      "metadata": {
        "id": "12wBTK0mNUsG"
      },
      "source": [
        "class SpeechCommandDataset(Dataset):\n",
        "\n",
        "    def __init__(\n",
        "        self,\n",
        "        transform: Optional[Callable] = None,\n",
        "        path2dir: str = None,\n",
        "        keywords: Union[str, List[str]] = None,\n",
        "        csv: Optional[pd.DataFrame] = None\n",
        "    ):        \n",
        "        self.transform = transform\n",
        "\n",
        "        if csv is None:\n",
        "            path2dir = pathlib.Path(path2dir)\n",
        "            keywords = keywords if isinstance(keywords, list) else [keywords]\n",
        "            \n",
        "            all_keywords = [\n",
        "                p.stem for p in path2dir.glob('*')\n",
        "                if p.is_dir() and not p.stem.startswith('_')\n",
        "            ]\n",
        "\n",
        "            triplets = []\n",
        "            for keyword in all_keywords:\n",
        "                paths = (path2dir / keyword).rglob('*.wav')\n",
        "                if keyword in keywords:\n",
        "                    for path2wav in paths:\n",
        "                        triplets.append((path2wav.as_posix(), keyword, 1))\n",
        "                else:\n",
        "                    for path2wav in paths:\n",
        "                        triplets.append((path2wav.as_posix(), keyword, 0))\n",
        "            \n",
        "            self.csv = pd.DataFrame(\n",
        "                triplets,\n",
        "                columns=['path', 'keyword', 'label']\n",
        "            )\n",
        "\n",
        "        else:\n",
        "            self.csv = csv\n",
        "    \n",
        "    def __getitem__(self, index: int):\n",
        "        instance = self.csv.iloc[index]\n",
        "\n",
        "        path2wav = instance['path']\n",
        "        wav, sr = torchaudio.load(path2wav)\n",
        "        wav = wav.sum(dim=0)\n",
        "        \n",
        "        if self.transform:\n",
        "            wav = self.transform(wav)\n",
        "\n",
        "        return {\n",
        "            'wav': wav,\n",
        "            'keywors': instance['keyword'],\n",
        "            'label': instance['label']\n",
        "        }\n",
        "\n",
        "    def __len__(self):\n",
        "        return len(self.csv)"
      ],
      "execution_count": 44,
      "outputs": []
    },
    {
      "cell_type": "code",
      "metadata": {
        "id": "-1rVkT81Pk90"
      },
      "source": [
        "dataset = SpeechCommandDataset(\n",
        "    path2dir='speech_commands', keywords=TaskConfig.keyword\n",
        ")"
      ],
      "execution_count": null,
      "outputs": []
    },
    {
      "cell_type": "code",
      "metadata": {
        "colab": {
          "base_uri": "https://localhost:8080/",
          "height": 206
        },
        "id": "DFwhAXdfQLIA",
        "outputId": "039745ee-5f19-4a9d-9551-5a977a504a9b"
      },
      "source": [
        "dataset.csv.sample(5)"
      ],
      "execution_count": null,
      "outputs": [
        {
          "data": {
            "text/html": [
              "<div>\n",
              "<style scoped>\n",
              "    .dataframe tbody tr th:only-of-type {\n",
              "        vertical-align: middle;\n",
              "    }\n",
              "\n",
              "    .dataframe tbody tr th {\n",
              "        vertical-align: top;\n",
              "    }\n",
              "\n",
              "    .dataframe thead th {\n",
              "        text-align: right;\n",
              "    }\n",
              "</style>\n",
              "<table border=\"1\" class=\"dataframe\">\n",
              "  <thead>\n",
              "    <tr style=\"text-align: right;\">\n",
              "      <th></th>\n",
              "      <th>path</th>\n",
              "      <th>keyword</th>\n",
              "      <th>label</th>\n",
              "    </tr>\n",
              "  </thead>\n",
              "  <tbody>\n",
              "    <tr>\n",
              "      <th>50905</th>\n",
              "      <td>speech_commands/no/8523766b_nohash_1.wav</td>\n",
              "      <td>no</td>\n",
              "      <td>0</td>\n",
              "    </tr>\n",
              "    <tr>\n",
              "      <th>9698</th>\n",
              "      <td>speech_commands/zero/7b301939_nohash_1.wav</td>\n",
              "      <td>zero</td>\n",
              "      <td>0</td>\n",
              "    </tr>\n",
              "    <tr>\n",
              "      <th>1693</th>\n",
              "      <td>speech_commands/on/29fb33da_nohash_2.wav</td>\n",
              "      <td>on</td>\n",
              "      <td>0</td>\n",
              "    </tr>\n",
              "    <tr>\n",
              "      <th>6840</th>\n",
              "      <td>speech_commands/four/b1f8326d_nohash_0.wav</td>\n",
              "      <td>four</td>\n",
              "      <td>0</td>\n",
              "    </tr>\n",
              "    <tr>\n",
              "      <th>19276</th>\n",
              "      <td>speech_commands/yes/3ae5c04f_nohash_1.wav</td>\n",
              "      <td>yes</td>\n",
              "      <td>0</td>\n",
              "    </tr>\n",
              "  </tbody>\n",
              "</table>\n",
              "</div>"
            ],
            "text/plain": [
              "                                             path keyword  label\n",
              "50905    speech_commands/no/8523766b_nohash_1.wav      no      0\n",
              "9698   speech_commands/zero/7b301939_nohash_1.wav    zero      0\n",
              "1693     speech_commands/on/29fb33da_nohash_2.wav      on      0\n",
              "6840   speech_commands/four/b1f8326d_nohash_0.wav    four      0\n",
              "19276   speech_commands/yes/3ae5c04f_nohash_1.wav     yes      0"
            ]
          },
          "execution_count": 15,
          "metadata": {},
          "output_type": "execute_result"
        }
      ]
    },
    {
      "cell_type": "markdown",
      "metadata": {
        "id": "LUxfDJw1qUYi"
      },
      "source": [
        "### Augmentations"
      ]
    },
    {
      "cell_type": "code",
      "metadata": {
        "id": "dkmkxPWQqUYe"
      },
      "source": [
        "class AugsCreation:\n",
        "\n",
        "    def __init__(self):\n",
        "        self.background_noises = [\n",
        "            'speech_commands/_background_noise_/white_noise.wav',\n",
        "            'speech_commands/_background_noise_/dude_miaowing.wav',\n",
        "            'speech_commands/_background_noise_/doing_the_dishes.wav',\n",
        "            'speech_commands/_background_noise_/exercise_bike.wav',\n",
        "            'speech_commands/_background_noise_/pink_noise.wav',\n",
        "            'speech_commands/_background_noise_/running_tap.wav'\n",
        "        ]\n",
        "\n",
        "        self.noises = [\n",
        "            torchaudio.load(p)[0].squeeze()\n",
        "            for p in self.background_noises\n",
        "        ]\n",
        "\n",
        "    def add_rand_noise(self, audio):\n",
        "\n",
        "        # randomly choose noise\n",
        "        noise_num = torch.randint(low=0, high=len(\n",
        "            self.background_noises), size=(1,)).item()\n",
        "        noise = self.noises[noise_num]\n",
        "\n",
        "        noise_level = torch.Tensor([1])  # [0, 40]\n",
        "\n",
        "        noise_energy = torch.norm(noise)\n",
        "        audio_energy = torch.norm(audio)\n",
        "        alpha = (audio_energy / noise_energy) * \\\n",
        "            torch.pow(10, -noise_level / 20)\n",
        "\n",
        "        start = torch.randint(\n",
        "            low=0,\n",
        "            high=max(int(noise.size(0) - audio.size(0) - 1), 1),\n",
        "            size=(1,)\n",
        "        ).item()\n",
        "        noise_sample = noise[start: start + audio.size(0)]\n",
        "\n",
        "        audio_new = audio + alpha * noise_sample\n",
        "        audio_new.clamp_(-1, 1)\n",
        "        return audio_new\n",
        "\n",
        "    def __call__(self, wav):\n",
        "        aug_num = torch.randint(low=0, high=4, size=(1,)).item()   # choose 1 random aug from augs\n",
        "        augs = [\n",
        "            lambda x: x,\n",
        "            lambda x: (x + distributions.Normal(0, 0.01).sample(x.size())).clamp_(-1, 1),\n",
        "            lambda x: torchaudio.transforms.Vol(.25)(x),\n",
        "            lambda x: self.add_rand_noise(x)\n",
        "        ]\n",
        "\n",
        "        return augs[aug_num](wav)"
      ],
      "execution_count": 41,
      "outputs": []
    },
    {
      "cell_type": "code",
      "metadata": {
        "id": "ClWThxyYh9pM"
      },
      "source": [
        "indexes = torch.randperm(len(dataset))\n",
        "train_indexes = indexes[:int(len(dataset) * 0.8)]\n",
        "val_indexes = indexes[int(len(dataset) * 0.8):]\n",
        "\n",
        "train_df = dataset.csv.iloc[train_indexes].reset_index(drop=True)\n",
        "val_df = dataset.csv.iloc[val_indexes].reset_index(drop=True)"
      ],
      "execution_count": null,
      "outputs": []
    },
    {
      "cell_type": "code",
      "metadata": {
        "id": "f3m_TgiAjAn0"
      },
      "source": [
        "# train_df.to_csv('train_df.csv')\n",
        "# val_df.to_csv('val_df.csv')\n",
        "train_df = pd.read_csv('/content/drive/MyDrive/Colab Notebooks/DLA/KWS/train_df.csv')\n",
        "val_df = pd.read_csv('/content/drive/MyDrive/Colab Notebooks/DLA/KWS/val_df.csv')"
      ],
      "execution_count": 42,
      "outputs": []
    },
    {
      "cell_type": "code",
      "metadata": {
        "id": "PDPLht5fqUYe"
      },
      "source": [
        "# Sample is a dict of utt, word and label\n",
        "train_set = SpeechCommandDataset(csv=train_df, transform=AugsCreation())\n",
        "val_set = SpeechCommandDataset(csv=val_df)"
      ],
      "execution_count": 47,
      "outputs": []
    },
    {
      "cell_type": "markdown",
      "metadata": {
        "id": "2vbPDqd6qUYj"
      },
      "source": [
        "### Sampler for oversampling:"
      ]
    },
    {
      "cell_type": "code",
      "metadata": {
        "id": "rfnjRKo2qUYj"
      },
      "source": [
        "# We should provide to WeightedRandomSampler _weight for every sample_; by default it is 1/len(target)\n",
        "\n",
        "def get_sampler(target):\n",
        "    class_sample_count = np.array(\n",
        "        [len(np.where(target == t)[0]) for t in np.unique(target)])   # for every class count it's number of occ.\n",
        "    weight = 1. / class_sample_count\n",
        "    samples_weight = np.array([weight[t] for t in target])\n",
        "    samples_weight = torch.from_numpy(samples_weight)\n",
        "    samples_weigth = samples_weight.float()\n",
        "    sampler = WeightedRandomSampler(samples_weight, len(samples_weight))\n",
        "    return sampler"
      ],
      "execution_count": 48,
      "outputs": []
    },
    {
      "cell_type": "code",
      "metadata": {
        "id": "UM8gLmHeqUYj"
      },
      "source": [
        "train_sampler = get_sampler(train_set.csv['label'].values)"
      ],
      "execution_count": 49,
      "outputs": []
    },
    {
      "cell_type": "code",
      "metadata": {
        "id": "lyBqbxp0h9pO"
      },
      "source": [
        "class Collator:\n",
        "    \n",
        "    def __call__(self, data):\n",
        "        wavs = []\n",
        "        labels = []    \n",
        "\n",
        "        for el in data:\n",
        "            wavs.append(el['wav'])\n",
        "            labels.append(el['label'])\n",
        "\n",
        "        # torch.nn.utils.rnn.pad_sequence takes list(Tensors) and returns padded (with 0.0) Tensor\n",
        "        wavs = pad_sequence(wavs, batch_first=True)    \n",
        "        labels = torch.Tensor(labels).long()\n",
        "        return wavs, labels"
      ],
      "execution_count": 50,
      "outputs": []
    },
    {
      "cell_type": "markdown",
      "metadata": {
        "id": "e8G9xPRVqUYk"
      },
      "source": [
        "###  Dataloaders"
      ]
    },
    {
      "cell_type": "code",
      "metadata": {
        "id": "6wGBMcQiqUYk"
      },
      "source": [
        "# Here we are obliged to use shuffle=False because of our sampler with randomness inside.\n",
        "\n",
        "train_loader = DataLoader(train_set, batch_size=TaskConfig.batch_size,\n",
        "                          shuffle=False, collate_fn=Collator(),\n",
        "                          sampler=train_sampler,\n",
        "                          num_workers=2, pin_memory=True)\n",
        "\n",
        "val_loader = DataLoader(val_set, batch_size=TaskConfig.batch_size,\n",
        "                        shuffle=False, collate_fn=Collator(),\n",
        "                        num_workers=2, pin_memory=True)"
      ],
      "execution_count": 51,
      "outputs": []
    },
    {
      "cell_type": "markdown",
      "metadata": {
        "id": "kTlsn6cpqUYk"
      },
      "source": [
        "### Creating MelSpecs on GPU for speeeed: "
      ]
    },
    {
      "cell_type": "code",
      "metadata": {
        "id": "pRXMt6it56fW"
      },
      "source": [
        "class LogMelspec:\n",
        "\n",
        "    def __init__(self, is_train, config):\n",
        "        # with augmentations\n",
        "        if is_train:\n",
        "            self.melspec = nn.Sequential(\n",
        "                torchaudio.transforms.MelSpectrogram(\n",
        "                    sample_rate=config.sample_rate,\n",
        "                    n_fft=400,\n",
        "                    win_length=400,\n",
        "                    hop_length=160,\n",
        "                    n_mels=config.n_mels\n",
        "                ),\n",
        "                torchaudio.transforms.FrequencyMasking(freq_mask_param=15),\n",
        "                torchaudio.transforms.TimeMasking(time_mask_param=35),\n",
        "            ).to(config.device)\n",
        "\n",
        "        # no augmentations\n",
        "        else:\n",
        "            self.melspec = torchaudio.transforms.MelSpectrogram(\n",
        "                sample_rate=config.sample_rate,\n",
        "                n_fft=400,\n",
        "                win_length=400,\n",
        "                hop_length=160,\n",
        "                n_mels=config.n_mels\n",
        "            ).to(config.device)\n",
        "\n",
        "    def __call__(self, batch):\n",
        "        # already on device\n",
        "        return torch.log(self.melspec(batch).clamp_(min=1e-9, max=1e9))"
      ],
      "execution_count": 52,
      "outputs": []
    },
    {
      "cell_type": "code",
      "metadata": {
        "id": "Pqkz4_gn8BiF"
      },
      "source": [
        "melspec_train = LogMelspec(is_train=True, config=TaskConfig)\n",
        "melspec_val = LogMelspec(is_train=False, config=TaskConfig)"
      ],
      "execution_count": 53,
      "outputs": []
    },
    {
      "cell_type": "code",
      "metadata": {
        "colab": {
          "base_uri": "https://localhost:8080/"
        },
        "id": "Lhk5C_xkkP_q",
        "outputId": "61d3fe21-d8e2-4811-cae6-ccbc714d55fc"
      },
      "source": [
        "# melspec_train(next(iter(train_loader))[0].to('cuda')).shape"
      ],
      "execution_count": null,
      "outputs": [
        {
          "data": {
            "text/plain": [
              "torch.Size([128, 40, 101])"
            ]
          },
          "execution_count": 53,
          "metadata": {},
          "output_type": "execute_result"
        }
      ]
    },
    {
      "cell_type": "markdown",
      "metadata": {
        "id": "zoAxmihY8yxr"
      },
      "source": [
        "### Quality measurement functions:"
      ]
    },
    {
      "cell_type": "code",
      "metadata": {
        "id": "euwD1UyuqUYk"
      },
      "source": [
        "# FA - true: 0, model: 1\n",
        "# FR - true: 1, model: 0\n",
        "\n",
        "def count_FA_FR(preds, labels):\n",
        "    FA = torch.sum(preds[labels == 0])\n",
        "    FR = torch.sum(labels[preds == 0])\n",
        "    \n",
        "    # torch.numel - returns total number of elements in tensor\n",
        "    return FA.item() / torch.numel(preds), FR.item() / torch.numel(preds)"
      ],
      "execution_count": 54,
      "outputs": []
    },
    {
      "cell_type": "code",
      "metadata": {
        "id": "YHBUrkT1qUYk"
      },
      "source": [
        "def get_au_fa_fr(probs, labels):\n",
        "    sorted_probs, _ = torch.sort(probs)\n",
        "    sorted_probs = torch.cat((torch.Tensor([0]), sorted_probs, torch.Tensor([1])))\n",
        "    labels = torch.cat(labels, dim=0)\n",
        "        \n",
        "    FAs, FRs = [], []\n",
        "    for prob in sorted_probs:\n",
        "        preds = (probs >= prob) * 1\n",
        "        FA, FR = count_FA_FR(preds, labels)        \n",
        "        FAs.append(FA)\n",
        "        FRs.append(FR)\n",
        "    # plt.plot(FAs, FRs)\n",
        "    # plt.show()\n",
        "\n",
        "    # ~ area under curve using trapezoidal rule\n",
        "    return -np.trapz(FRs, x=FAs)"
      ],
      "execution_count": 55,
      "outputs": []
    },
    {
      "cell_type": "markdown",
      "metadata": {
        "id": "CcEP5cEZqUYl"
      },
      "source": [
        "# Model"
      ]
    },
    {
      "cell_type": "code",
      "metadata": {
        "colab": {
          "base_uri": "https://localhost:8080/"
        },
        "id": "2cP_pFIsy5p2",
        "outputId": "2738ce70-d058-497b-efab-66fb4cbb65f9"
      },
      "source": [
        "class Attention(nn.Module):\n",
        "\n",
        "    def __init__(self, hidden_size: int):\n",
        "        super().__init__()\n",
        "\n",
        "        self.energy = nn.Sequential(\n",
        "            nn.Linear(hidden_size, hidden_size),\n",
        "            nn.Tanh(),\n",
        "            nn.Linear(hidden_size, 1)\n",
        "        )\n",
        "    \n",
        "    def forward(self, input):\n",
        "        energy = self.energy(input)\n",
        "        alpha = torch.softmax(energy, dim=-2)\n",
        "        return (input * alpha).sum(dim=-2)\n",
        "\n",
        "class CRNN(nn.Module):\n",
        "\n",
        "    def __init__(self, config: TaskConfig):\n",
        "        super().__init__()\n",
        "        self.config = config\n",
        "\n",
        "        self.conv = nn.Sequential(\n",
        "            nn.Conv2d(\n",
        "                in_channels=1, out_channels=config.cnn_out_channels,\n",
        "                kernel_size=config.kernel_size, stride=config.stride\n",
        "            ),\n",
        "            nn.Flatten(start_dim=1, end_dim=2),\n",
        "        )\n",
        "\n",
        "        self.conv_out_frequency = (config.n_mels - config.kernel_size[0]) // \\\n",
        "            config.stride[0] + 1\n",
        "        \n",
        "        self.gru = nn.GRU(\n",
        "            input_size=self.conv_out_frequency * config.cnn_out_channels,\n",
        "            hidden_size=config.hidden_size,\n",
        "            num_layers=config.gru_num_layers,\n",
        "            dropout=0.1,\n",
        "            bidirectional=config.bidirectional,\n",
        "            batch_first=True\n",
        "        )\n",
        "\n",
        "        self.attention = Attention(config.hidden_size)\n",
        "        self.classifier = nn.Linear(config.hidden_size, config.num_classes)\n",
        "    \n",
        "    def forward(self, input):\n",
        "        input = input.unsqueeze(dim=1)\n",
        "        conv_output = self.conv(input).transpose(-1, -2)\n",
        "        gru_output, _ = self.gru(conv_output)\n",
        "        contex_vector = self.attention(gru_output)\n",
        "        output = self.classifier(contex_vector)\n",
        "        return output\n",
        "\n",
        "config = TaskConfig()\n",
        "model = CRNN(config)\n",
        "model"
      ],
      "execution_count": 56,
      "outputs": [
        {
          "output_type": "execute_result",
          "data": {
            "text/plain": [
              "CRNN(\n",
              "  (conv): Sequential(\n",
              "    (0): Conv2d(1, 8, kernel_size=(5, 20), stride=(2, 8))\n",
              "    (1): Flatten(start_dim=1, end_dim=2)\n",
              "  )\n",
              "  (gru): GRU(144, 64, num_layers=2, batch_first=True, dropout=0.1)\n",
              "  (attention): Attention(\n",
              "    (energy): Sequential(\n",
              "      (0): Linear(in_features=64, out_features=64, bias=True)\n",
              "      (1): Tanh()\n",
              "      (2): Linear(in_features=64, out_features=1, bias=True)\n",
              "    )\n",
              "  )\n",
              "  (classifier): Linear(in_features=64, out_features=2, bias=True)\n",
              ")"
            ]
          },
          "metadata": {},
          "execution_count": 56
        }
      ]
    },
    {
      "cell_type": "code",
      "metadata": {
        "id": "DmmSFvWaqUYn"
      },
      "source": [
        "def train_epoch(model, opt, loader, log_melspec, device):\n",
        "    model.train()\n",
        "    for i, (batch, labels) in tqdm(enumerate(loader), total=len(loader)):\n",
        "        batch, labels = batch.to(device), labels.to(device)\n",
        "        batch = log_melspec(batch)\n",
        "\n",
        "        opt.zero_grad()\n",
        "\n",
        "        # run model # with autocast():\n",
        "        logits = model(batch)\n",
        "        # we need probabilities so we use softmax & CE separately\n",
        "        probs = F.softmax(logits, dim=-1)\n",
        "        loss = F.cross_entropy(logits, labels)\n",
        "\n",
        "        loss.backward()\n",
        "        torch.nn.utils.clip_grad_norm_(model.parameters(), 5)\n",
        "\n",
        "        opt.step()\n",
        "\n",
        "        # logging\n",
        "        argmax_probs = torch.argmax(probs, dim=-1)\n",
        "        FA, FR = count_FA_FR(argmax_probs, labels)\n",
        "        acc = torch.sum(argmax_probs == labels) / torch.numel(argmax_probs)\n",
        "\n",
        "    return acc"
      ],
      "execution_count": null,
      "outputs": []
    },
    {
      "cell_type": "code",
      "metadata": {
        "id": "UIeRbn4tqUYo"
      },
      "source": [
        "@torch.no_grad()\n",
        "def validation(model, loader, log_melspec, device):\n",
        "    model.eval()\n",
        "\n",
        "    val_losses, accs, FAs, FRs = [], [], [], []\n",
        "    all_probs, all_labels = [], []\n",
        "    for i, (batch, labels) in tqdm(enumerate(loader)):\n",
        "        batch, labels = batch.to(device), labels.to(device)\n",
        "        batch = log_melspec(batch)\n",
        "\n",
        "        output = model(batch)\n",
        "        # we need probabilities so we use softmax & CE separately\n",
        "        probs = F.softmax(output, dim=-1)\n",
        "        loss = F.cross_entropy(output, labels)\n",
        "\n",
        "        # logging\n",
        "        argmax_probs = torch.argmax(probs, dim=-1)\n",
        "        all_probs.append(probs[:, 1].cpu())\n",
        "        all_labels.append(labels.cpu())\n",
        "        val_losses.append(loss.item())\n",
        "        accs.append(\n",
        "            torch.sum(argmax_probs == labels).item() /  # ???\n",
        "            torch.numel(argmax_probs)\n",
        "        )\n",
        "        FA, FR = count_FA_FR(argmax_probs, labels)\n",
        "        FAs.append(FA)\n",
        "        FRs.append(FR)\n",
        "\n",
        "    # area under FA/FR curve for whole loader\n",
        "    au_fa_fr = get_au_fa_fr(torch.cat(all_probs, dim=0).cpu(), all_labels)\n",
        "    return au_fa_fr"
      ],
      "execution_count": 57,
      "outputs": []
    },
    {
      "cell_type": "code",
      "metadata": {
        "id": "PpyvKwp0k3IU"
      },
      "source": [
        "from collections import defaultdict\n",
        "from IPython.display import clear_output\n",
        "from matplotlib import pyplot as plt\n",
        "\n",
        "history = defaultdict(list)"
      ],
      "execution_count": 58,
      "outputs": []
    },
    {
      "cell_type": "markdown",
      "metadata": {
        "id": "GSNW-nZCJ4Q0"
      },
      "source": [
        "# Training"
      ]
    },
    {
      "cell_type": "code",
      "metadata": {
        "id": "Q8sVpHNoocgA"
      },
      "source": [
        "config = TaskConfig()\n",
        "model = CRNN(config).to(config.device)\n",
        "\n",
        "print(model)\n",
        "\n",
        "opt = torch.optim.Adam(\n",
        "    model.parameters(),\n",
        "    lr=config.learning_rate,\n",
        "    weight_decay=config.weight_decay\n",
        ")"
      ],
      "execution_count": null,
      "outputs": []
    },
    {
      "cell_type": "code",
      "metadata": {
        "colab": {
          "base_uri": "https://localhost:8080/"
        },
        "id": "zedXm9dmINAE",
        "outputId": "74faed24-a304-417d-be0d-5d616833c2bf"
      },
      "source": [
        "sum([p.numel() for p in model.parameters()])"
      ],
      "execution_count": null,
      "outputs": [
        {
          "data": {
            "text/plain": [
              "70443"
            ]
          },
          "execution_count": 32,
          "metadata": {},
          "output_type": "execute_result"
        }
      ]
    },
    {
      "cell_type": "code",
      "metadata": {
        "id": "vt2kjqC-IobK"
      },
      "source": [
        ""
      ],
      "execution_count": null,
      "outputs": []
    },
    {
      "cell_type": "code",
      "metadata": {
        "colab": {
          "base_uri": "https://localhost:8080/",
          "height": 297
        },
        "id": "32oooz4lqUYo",
        "scrolled": false,
        "outputId": "3b75358f-c56f-4a51-86d9-73b3b82f910d"
      },
      "source": [
        "# TRAIN\n",
        "\n",
        "for n in range(TaskConfig.num_epochs):\n",
        "\n",
        "    train_epoch(model, opt, train_loader,\n",
        "                melspec_train, config.device)\n",
        "\n",
        "    au_fa_fr = validation(model, val_loader,\n",
        "                          melspec_val, config.device)\n",
        "    history['val_metric'].append(au_fa_fr)\n",
        "\n",
        "    clear_output()\n",
        "    plt.plot(history['val_metric'])\n",
        "    plt.ylabel('Metric')\n",
        "    plt.xlabel('Epoch')\n",
        "    plt.grid()\n",
        "    plt.show()\n",
        "\n",
        "    print('END OF EPOCH', n)"
      ],
      "execution_count": null,
      "outputs": [
        {
          "data": {
            "image/png": "[encoded data removed]",
            "text/plain": [
              "<Figure size 432x288 with 1 Axes>"
            ]
          },
          "metadata": {},
          "output_type": "display_data"
        },
        {
          "name": "stdout",
          "output_type": "stream",
          "text": [
            "END OF EPOCH 19\n"
          ]
        }
      ]
    },
    {
      "cell_type": "code",
      "metadata": {
        "colab": {
          "base_uri": "https://localhost:8080/"
        },
        "id": "G9nfdPg_agAZ",
        "outputId": "3f7386fc-44c8-4b2e-cd09-5b92acc6abad"
      },
      "source": [
        "history"
      ],
      "execution_count": null,
      "outputs": [
        {
          "data": {
            "text/plain": [
              "defaultdict(list,\n",
              "            {'val_metric': [0.0003598132814037343,\n",
              "              0.0001798022086191975,\n",
              "              8.506739076889015e-05,\n",
              "              7.583559466089485e-05,\n",
              "              7.941015566198676e-05,\n",
              "              4.6833313416643275e-05,\n",
              "              4.044206995726192e-05,\n",
              "              4.555625823428323e-05,\n",
              "              2.8859060102304646e-05,\n",
              "              2.690767204327785e-05,\n",
              "              2.7176211684428326e-05,\n",
              "              2.723588716023954e-05,\n",
              "              2.050449348873424e-05,\n",
              "              1.999725194433889e-05,\n",
              "              1.5157570856049174e-05,\n",
              "              1.6506236609382685e-05,\n",
              "              1.7013478153778034e-05,\n",
              "              1.9454205114456816e-05,\n",
              "              1.82965008837192e-05,\n",
              "              1.9027525462406615e-05]})"
            ]
          },
          "execution_count": 39,
          "metadata": {},
          "output_type": "execute_result"
        }
      ]
    },
    {
      "cell_type": "code",
      "metadata": {
        "id": "VHMNioQDao2n"
      },
      "source": [
        "torch.save(model.state_dict(), 'base_model')\n",
        "torch.save(opt.state_dict(), 'base_opt')"
      ],
      "execution_count": null,
      "outputs": []
    },
    {
      "cell_type": "markdown",
      "metadata": {
        "id": "rGKcPdpf83Dj"
      },
      "source": [
        "# Utils"
      ]
    },
    {
      "cell_type": "code",
      "metadata": {
        "id": "ITAEWteC84dg"
      },
      "source": [
        "def count_parameters(model):\n",
        "    model_parameters = filter(lambda p: p.requires_grad, model.parameters())\n",
        "    return sum([np.prod(p.size()) for p in model_parameters])"
      ],
      "execution_count": 60,
      "outputs": []
    },
    {
      "cell_type": "code",
      "metadata": {
        "colab": {
          "base_uri": "https://localhost:8080/"
        },
        "id": "2NFCl1lRTHO9",
        "outputId": "c48205bb-ea3e-41a3-f576-be26aca847e0"
      },
      "source": [
        "!pip install thop"
      ],
      "execution_count": 61,
      "outputs": [
        {
          "output_type": "stream",
          "name": "stdout",
          "text": [
            "Collecting thop\n",
            "  Downloading thop-0.0.31.post2005241907-py3-none-any.whl (8.7 kB)\n",
            "Requirement already satisfied: torch>=1.0.0 in /usr/local/lib/python3.7/dist-packages (from thop) (1.9.1)\n",
            "Requirement already satisfied: typing-extensions in /usr/local/lib/python3.7/dist-packages (from torch>=1.0.0->thop) (3.10.0.2)\n",
            "Installing collected packages: thop\n",
            "Successfully installed thop-0.0.31.post2005241907\n"
          ]
        }
      ]
    },
    {
      "cell_type": "code",
      "metadata": {
        "id": "7M6HRb8XTE_4"
      },
      "source": [
        "from thop import profile        \n",
        "# profile(CRNN(config), (torch.randn(128, 40, 101), ))  # -> (6.0 MACs, 3.0 parameters)"
      ],
      "execution_count": 62,
      "outputs": []
    },
    {
      "cell_type": "code",
      "metadata": {
        "colab": {
          "base_uri": "https://localhost:8080/"
        },
        "id": "S1Al8FP7Us64",
        "outputId": "5049062a-6c8e-4eac-b42a-8f33a6079e5d"
      },
      "source": [
        "def get_size_in_megabytes(model):\n",
        "    num_params = sum([p.numel() for p in model.parameters() if p.requires_grad])\n",
        "    param_size = next(model.parameters()).element_size()\n",
        "    return (num_params * param_size) / (2 ** 20)\n",
        "\n",
        "get_size_in_megabytes(model)"
      ],
      "execution_count": 59,
      "outputs": [
        {
          "output_type": "execute_result",
          "data": {
            "text/plain": [
              "0.2687187194824219"
            ]
          },
          "metadata": {},
          "execution_count": 59
        }
      ]
    },
    {
      "cell_type": "code",
      "metadata": {
        "id": "-ZxYSo2bO17I"
      },
      "source": [
        "import os\n",
        "def print_size_of_model(model, label=\"\"):\n",
        "    torch.save(model.state_dict(), \"temp.p\")\n",
        "    size=os.path.getsize(\"temp.p\")\n",
        "    print(\"model: \",label,' \\t','Size (KB):', size/1024)\n",
        "    os.remove('temp.p')\n",
        "    return size"
      ],
      "execution_count": 67,
      "outputs": []
    },
    {
      "cell_type": "code",
      "metadata": {
        "colab": {
          "base_uri": "https://localhost:8080/"
        },
        "id": "ra7OxqnyVNpz",
        "outputId": "e59008a0-5d2f-47c9-ae88-c59b57445da6"
      },
      "source": [
        "def config_to_dict(config, hparam_n = 15):\n",
        "    return {key: config.__dict__[key] for key in sorted(config.__dict__.keys())[-hparam_n:]}\n",
        "config_to_dict(config)"
      ],
      "execution_count": 68,
      "outputs": [
        {
          "output_type": "execute_result",
          "data": {
            "text/plain": [
              "{'batch_size': 128,\n",
              " 'bidirectional': False,\n",
              " 'cnn_out_channels': 8,\n",
              " 'device': device(type='cpu'),\n",
              " 'gru_num_layers': 2,\n",
              " 'hidden_size': 64,\n",
              " 'kernel_size': (5, 20),\n",
              " 'keyword': 'sheila',\n",
              " 'learning_rate': 0.0003,\n",
              " 'n_mels': 40,\n",
              " 'num_classes': 2,\n",
              " 'num_epochs': 20,\n",
              " 'sample_rate': 16000,\n",
              " 'stride': (2, 8),\n",
              " 'weight_decay': 1e-05}"
            ]
          },
          "metadata": {},
          "execution_count": 68
        }
      ]
    },
    {
      "cell_type": "code",
      "metadata": {
        "id": "fyuC9Rl0a6A7"
      },
      "source": [
        ""
      ],
      "execution_count": null,
      "outputs": []
    },
    {
      "cell_type": "markdown",
      "metadata": {
        "id": "sBw4VZXua6ba"
      },
      "source": [
        "# Streaming"
      ]
    },
    {
      "cell_type": "code",
      "metadata": {
        "id": "IFCOEWhJCxh6"
      },
      "source": [
        "class StreamingCRNN(CRNN):\n",
        "    def __init__(self, config, max_window_length):\n",
        "        self.max_window_length = max_window_length\n",
        "        super().__init__(config)\n",
        "    \n",
        "    def forward(self, input):\n",
        "        pass"
      ],
      "execution_count": null,
      "outputs": []
    },
    {
      "cell_type": "markdown",
      "metadata": {
        "id": "y-NJjHcPtQsx"
      },
      "source": [
        "# Dark Knowledge Distillation"
      ]
    },
    {
      "cell_type": "code",
      "metadata": {
        "id": "LmjsaTHdtl4u"
      },
      "source": [
        "def train_epoch_w_teacher(student, teacher, opt, loader, log_melspec, device, temp=20, alpha=.5):\n",
        "    student.train()\n",
        "    teacher.train()\n",
        "    for i, (batch, labels) in tqdm(enumerate(loader), total=len(loader)):\n",
        "        batch, labels = batch.to(device), labels.to(device)\n",
        "        batch = log_melspec(batch)\n",
        "\n",
        "        opt.zero_grad()\n",
        "\n",
        "        # run model # with autocast():\n",
        "        teacher_logits = teacher(batch).detach()\n",
        "        student_logits = student(batch)\n",
        "\n",
        "        soft_labels = F.softmax(teacher_logits / temp, dim=-1)\n",
        "        soft_preds = F.softmax(student_logits / temp, dim=-1)\n",
        "        distill_loss = F.kl_div(soft_preds.log(), soft_labels, reduction='sum')    # KL divergence\n",
        "\n",
        "        hard_probs = F.softmax(student_logits, dim=-1)\n",
        "        student_loss = F.cross_entropy(student_logits, labels)\n",
        "\n",
        "        loss = alpha * student_loss + (1 - alpha) * distill_loss\n",
        "        loss.backward()\n",
        "        torch.nn.utils.clip_grad_norm_(student.parameters(), 5)\n",
        "\n",
        "        opt.step()\n",
        "\n",
        "        # logging\n",
        "        argmax_probs = torch.argmax(hard_probs, dim=-1)\n",
        "        FA, FR = count_FA_FR(argmax_probs, labels)\n",
        "        acc = torch.sum(argmax_probs == labels) / torch.numel(argmax_probs)\n",
        "\n",
        "    return acc\n",
        "\n",
        "def train_w_teacher(student, teacher, config, opt, loaders, log_melspec, temp=20, alpha=.5, model_path=None, history=None, history_path=None):\n",
        "    train_loader, val_loader = loaders\n",
        "    melspec_train, melspec_val = log_melspec\n",
        "    if history is None:\n",
        "        history = defaultdict(list)\n",
        "    for n in range(config.num_epochs):\n",
        "\n",
        "        train_epoch_w_teacher(\n",
        "            student, teacher, opt, train_loader, melspec_train, config.device, temp, alpha\n",
        "        )\n",
        "        if model_path:\n",
        "            torch.save(student.state_dict(), model_path)\n",
        "        au_fa_fr = validation(student, val_loader, melspec_val, config.device)\n",
        "        history['val_metric'].append(au_fa_fr)\n",
        "        if history_path:\n",
        "            np.save(history_path, history['val_metric'])\n",
        "\n",
        "        clear_output()\n",
        "        plt.plot(history['val_metric'])\n",
        "        plt.ylabel('Metric')\n",
        "        plt.xlabel('Epoch')\n",
        "        # plt.grid()\n",
        "        plt.show()\n",
        "\n",
        "        print('END OF EPOCH %d / %d' % (n, config.num_epochs))\n",
        "        \n",
        "        if au_fa_fr <= 1.1 * 5e-5:\n",
        "            break\n",
        "    return history"
      ],
      "execution_count": null,
      "outputs": []
    },
    {
      "cell_type": "code",
      "metadata": {
        "colab": {
          "base_uri": "https://localhost:8080/"
        },
        "id": "LEKpIzII8C-V",
        "outputId": "04980fd7-c9e3-4c79-ec4d-2e185757367a"
      },
      "source": [
        "model = CRNN(config)\n",
        "model.load_state_dict(torch.load('/content/drive/MyDrive/Colab Notebooks/DLA/KWS/models/base_model.pt', map_location=config.device), strict=False)"
      ],
      "execution_count": 65,
      "outputs": [
        {
          "output_type": "execute_result",
          "data": {
            "text/plain": [
              "_IncompatibleKeys(missing_keys=[], unexpected_keys=['total_ops', 'total_params', 'conv.total_ops', 'conv.total_params', 'conv.1.total_ops', 'conv.1.total_params', 'attention.total_ops', 'attention.total_params', 'attention.energy.total_ops', 'attention.energy.total_params', 'attention.energy.1.total_ops', 'attention.energy.1.total_params'])"
            ]
          },
          "metadata": {},
          "execution_count": 65
        }
      ]
    },
    {
      "cell_type": "code",
      "metadata": {
        "colab": {
          "base_uri": "https://localhost:8080/"
        },
        "id": "qmXORRz_Ide_",
        "outputId": "f63d1208-0535-44f4-b118-66b853e65322"
      },
      "source": [
        "student_config = TaskConfig\n",
        "student_config.hidden_size = 8\n",
        "student_config.cnn_out_channels = 4\n",
        "student_config.num_epochs = 50\n",
        "\n",
        "student_model = CRNN(student_config).to(student_config.device)\n",
        "student_model.load_state_dict(torch.load('/content/drive/MyDrive/Colab Notebooks/DLA/KWS/student_models/student_model_8_4.pt', map_location=student_config.device))\n",
        "print('Number of params %d' % count_parameters(student_model))\n",
        "student_model"
      ],
      "execution_count": 66,
      "outputs": [
        {
          "output_type": "stream",
          "name": "stdout",
          "text": [
            "Number of params 2903\n"
          ]
        },
        {
          "output_type": "execute_result",
          "data": {
            "text/plain": [
              "CRNN(\n",
              "  (conv): Sequential(\n",
              "    (0): Conv2d(1, 4, kernel_size=(5, 20), stride=(2, 8))\n",
              "    (1): Flatten(start_dim=1, end_dim=2)\n",
              "  )\n",
              "  (gru): GRU(72, 8, num_layers=2, batch_first=True, dropout=0.1)\n",
              "  (attention): Attention(\n",
              "    (energy): Sequential(\n",
              "      (0): Linear(in_features=8, out_features=8, bias=True)\n",
              "      (1): Tanh()\n",
              "      (2): Linear(in_features=8, out_features=1, bias=True)\n",
              "    )\n",
              "  )\n",
              "  (classifier): Linear(in_features=8, out_features=2, bias=True)\n",
              ")"
            ]
          },
          "metadata": {},
          "execution_count": 66
        }
      ]
    },
    {
      "cell_type": "code",
      "metadata": {
        "colab": {
          "base_uri": "https://localhost:8080/",
          "height": 257
        },
        "id": "2UD6Ud3hJ73i",
        "outputId": "289c40b5-9147-4367-ad71-d445571e3e47"
      },
      "source": [
        "student_mb_sz = print_size_of_model(student_model, 'Distilled model') / (2 ** (20))\n",
        "student_macs, student_n_params = profile(CRNN(student_config), (torch.randn(1, 40, 101),))\n",
        "student_hist = results[(8,4)]\n",
        "table_ = pd.DataFrame(\n",
        "    columns=[\n",
        "        'SETTING', 'MACS', 'MB_SZ', 'N_PARAMS', 'METRIC', 'batch_size',\n",
        "        'bidirectional', 'cnn_out_channels', 'device', 'gru_num_layers',\n",
        "        'hidden_size', 'kernel_size', 'keyword', 'learning_rate', 'n_mels',\n",
        "        'num_classes', 'num_epochs', 'sample_rate', 'stride', 'weight_decay'\n",
        "    ]\n",
        ")\n",
        "table_= table_.append(\n",
        "    {\n",
        "        **{\n",
        "            'SETTING': 'DKD_%d_%d' % (student_config.hidden_size, student_config.cnn_out_channels),\n",
        "            'MACS': student_macs, 'MB_SZ': student_mb_sz, 'N_PARAMS': student_n_params, \n",
        "            'METRIC': student_hist[-1]\n",
        "        },\n",
        "        **config_to_dict(student_config) \n",
        "    },\n",
        "    ignore_index=True\n",
        ")\n",
        "table_"
      ],
      "execution_count": 71,
      "outputs": [
        {
          "output_type": "stream",
          "name": "stdout",
          "text": [
            "model:  Distilled model  \t Size (KB): 15.7392578125\n",
            "[INFO] Register count_convNd() for <class 'torch.nn.modules.conv.Conv2d'>.\n",
            "\u001b[91m[WARN] Cannot find rule for <class 'torch.nn.modules.flatten.Flatten'>. Treat it as zero Macs and zero Params.\u001b[00m\n",
            "\u001b[91m[WARN] Cannot find rule for <class 'torch.nn.modules.container.Sequential'>. Treat it as zero Macs and zero Params.\u001b[00m\n",
            "[INFO] Register count_gru() for <class 'torch.nn.modules.rnn.GRU'>.\n",
            "[INFO] Register count_linear() for <class 'torch.nn.modules.linear.Linear'>.\n",
            "\u001b[91m[WARN] Cannot find rule for <class 'torch.nn.modules.activation.Tanh'>. Treat it as zero Macs and zero Params.\u001b[00m\n",
            "\u001b[91m[WARN] Cannot find rule for <class '__main__.Attention'>. Treat it as zero Macs and zero Params.\u001b[00m\n",
            "\u001b[91m[WARN] Cannot find rule for <class '__main__.CRNN'>. Treat it as zero Macs and zero Params.\u001b[00m\n"
          ]
        },
        {
          "output_type": "execute_result",
          "data": {
            "text/html": [
              "<div>\n",
              "<style scoped>\n",
              "    .dataframe tbody tr th:only-of-type {\n",
              "        vertical-align: middle;\n",
              "    }\n",
              "\n",
              "    .dataframe tbody tr th {\n",
              "        vertical-align: top;\n",
              "    }\n",
              "\n",
              "    .dataframe thead th {\n",
              "        text-align: right;\n",
              "    }\n",
              "</style>\n",
              "<table border=\"1\" class=\"dataframe\">\n",
              "  <thead>\n",
              "    <tr style=\"text-align: right;\">\n",
              "      <th></th>\n",
              "      <th>SETTING</th>\n",
              "      <th>MACS</th>\n",
              "      <th>MB_SZ</th>\n",
              "      <th>N_PARAMS</th>\n",
              "      <th>METRIC</th>\n",
              "      <th>batch_size</th>\n",
              "      <th>bidirectional</th>\n",
              "      <th>cnn_out_channels</th>\n",
              "      <th>device</th>\n",
              "      <th>gru_num_layers</th>\n",
              "      <th>hidden_size</th>\n",
              "      <th>kernel_size</th>\n",
              "      <th>keyword</th>\n",
              "      <th>learning_rate</th>\n",
              "      <th>n_mels</th>\n",
              "      <th>num_classes</th>\n",
              "      <th>num_epochs</th>\n",
              "      <th>sample_rate</th>\n",
              "      <th>stride</th>\n",
              "      <th>weight_decay</th>\n",
              "    </tr>\n",
              "  </thead>\n",
              "  <tbody>\n",
              "    <tr>\n",
              "      <th>0</th>\n",
              "      <td>DKD_8_4</td>\n",
              "      <td>108432.0</td>\n",
              "      <td>0.01537</td>\n",
              "      <td>2903.0</td>\n",
              "      <td>0.000146</td>\n",
              "      <td>128</td>\n",
              "      <td>False</td>\n",
              "      <td>4</td>\n",
              "      <td>cpu</td>\n",
              "      <td>2</td>\n",
              "      <td>8</td>\n",
              "      <td>(5, 20)</td>\n",
              "      <td>sheila</td>\n",
              "      <td>0.0003</td>\n",
              "      <td>40</td>\n",
              "      <td>2</td>\n",
              "      <td>50</td>\n",
              "      <td>16000</td>\n",
              "      <td>(2, 8)</td>\n",
              "      <td>0.00001</td>\n",
              "    </tr>\n",
              "  </tbody>\n",
              "</table>\n",
              "</div>"
            ],
            "text/plain": [
              "   SETTING      MACS    MB_SZ  ...  sample_rate  stride weight_decay\n",
              "0  DKD_8_4  108432.0  0.01537  ...        16000  (2, 8)      0.00001\n",
              "\n",
              "[1 rows x 20 columns]"
            ]
          },
          "metadata": {},
          "execution_count": 71
        }
      ]
    },
    {
      "cell_type": "code",
      "metadata": {
        "id": "VilgkCb0LjMc"
      },
      "source": [
        "table_.to_csv('/content/drive/MyDrive/Colab Notebooks/DLA/KWS/kws_experiments.csv', mode='a', header=False, index=False)"
      ],
      "execution_count": 72,
      "outputs": []
    },
    {
      "cell_type": "code",
      "metadata": {
        "colab": {
          "base_uri": "https://localhost:8080/",
          "height": 623
        },
        "id": "Fi2emU1NL3Jo",
        "outputId": "9f097973-08a7-49a8-8457-3f8c853d4e81"
      },
      "source": [
        "table = pd.read_csv('/content/drive/MyDrive/Colab Notebooks/DLA/KWS/kws_experiments.csv')\n",
        "table"
      ],
      "execution_count": 80,
      "outputs": [
        {
          "output_type": "execute_result",
          "data": {
            "text/html": [
              "<div>\n",
              "<style scoped>\n",
              "    .dataframe tbody tr th:only-of-type {\n",
              "        vertical-align: middle;\n",
              "    }\n",
              "\n",
              "    .dataframe tbody tr th {\n",
              "        vertical-align: top;\n",
              "    }\n",
              "\n",
              "    .dataframe thead th {\n",
              "        text-align: right;\n",
              "    }\n",
              "</style>\n",
              "<table border=\"1\" class=\"dataframe\">\n",
              "  <thead>\n",
              "    <tr style=\"text-align: right;\">\n",
              "      <th></th>\n",
              "      <th>SETTING</th>\n",
              "      <th>MACS</th>\n",
              "      <th>MB_SZ</th>\n",
              "      <th>N_PARAMS</th>\n",
              "      <th>METRIC</th>\n",
              "      <th>batch_size</th>\n",
              "      <th>bidirectional</th>\n",
              "      <th>cnn_out_channels</th>\n",
              "      <th>device</th>\n",
              "      <th>gru_num_layers</th>\n",
              "      <th>hidden_size</th>\n",
              "      <th>kernel_size</th>\n",
              "      <th>keyword</th>\n",
              "      <th>learning_rate</th>\n",
              "      <th>n_mels</th>\n",
              "      <th>num_classes</th>\n",
              "      <th>num_epochs</th>\n",
              "      <th>sample_rate</th>\n",
              "      <th>stride</th>\n",
              "      <th>weight_decay</th>\n",
              "    </tr>\n",
              "  </thead>\n",
              "  <tbody>\n",
              "    <tr>\n",
              "      <th>0</th>\n",
              "      <td>Base model</td>\n",
              "      <td>933808.0</td>\n",
              "      <td>0.268719</td>\n",
              "      <td>70443.0</td>\n",
              "      <td>0.000019</td>\n",
              "      <td>128.0</td>\n",
              "      <td>0.0</td>\n",
              "      <td>8.0</td>\n",
              "      <td>cuda:0</td>\n",
              "      <td>2.0</td>\n",
              "      <td>64.0</td>\n",
              "      <td>(5, 20)</td>\n",
              "      <td>sheila</td>\n",
              "      <td>0.0003</td>\n",
              "      <td>40.0</td>\n",
              "      <td>2.0</td>\n",
              "      <td>20.0</td>\n",
              "      <td>16000.0</td>\n",
              "      <td>(2, 8)</td>\n",
              "      <td>0.00001</td>\n",
              "    </tr>\n",
              "    <tr>\n",
              "      <th>1</th>\n",
              "      <td>Dark Knowledge Distillation</td>\n",
              "      <td>150952.0</td>\n",
              "      <td>0.025478</td>\n",
              "      <td>6679.0</td>\n",
              "      <td>0.000057</td>\n",
              "      <td>128.0</td>\n",
              "      <td>0.0</td>\n",
              "      <td>4.0</td>\n",
              "      <td>cuda:0</td>\n",
              "      <td>2.0</td>\n",
              "      <td>16.0</td>\n",
              "      <td>(5, 20)</td>\n",
              "      <td>sheila</td>\n",
              "      <td>0.0003</td>\n",
              "      <td>40.0</td>\n",
              "      <td>2.0</td>\n",
              "      <td>50.0</td>\n",
              "      <td>16000.0</td>\n",
              "      <td>(2, 8)</td>\n",
              "      <td>0.00001</td>\n",
              "    </tr>\n",
              "    <tr>\n",
              "      <th>2</th>\n",
              "      <td>DQ_int8</td>\n",
              "      <td>159984.0</td>\n",
              "      <td>0.088321</td>\n",
              "      <td>808.0</td>\n",
              "      <td>0.000014</td>\n",
              "      <td>128.0</td>\n",
              "      <td>False</td>\n",
              "      <td>8.0</td>\n",
              "      <td>cpu</td>\n",
              "      <td>2.0</td>\n",
              "      <td>64.0</td>\n",
              "      <td>(5, 20)</td>\n",
              "      <td>sheila</td>\n",
              "      <td>0.0003</td>\n",
              "      <td>40.0</td>\n",
              "      <td>2.0</td>\n",
              "      <td>20.0</td>\n",
              "      <td>16000.0</td>\n",
              "      <td>(2, 8)</td>\n",
              "      <td>0.00001</td>\n",
              "    </tr>\n",
              "    <tr>\n",
              "      <th>3</th>\n",
              "      <td>Base_5e-5</td>\n",
              "      <td>1867616.0</td>\n",
              "      <td>0.276444</td>\n",
              "      <td>70443.0</td>\n",
              "      <td>0.000040</td>\n",
              "      <td>128.0</td>\n",
              "      <td>False</td>\n",
              "      <td>8.0</td>\n",
              "      <td>cpu</td>\n",
              "      <td>2.0</td>\n",
              "      <td>64.0</td>\n",
              "      <td>(5, 20)</td>\n",
              "      <td>sheila</td>\n",
              "      <td>0.0003</td>\n",
              "      <td>40.0</td>\n",
              "      <td>2.0</td>\n",
              "      <td>20.0</td>\n",
              "      <td>16000.0</td>\n",
              "      <td>(2, 8)</td>\n",
              "      <td>0.00001</td>\n",
              "    </tr>\n",
              "    <tr>\n",
              "      <th>4</th>\n",
              "      <td>DQ_int8_</td>\n",
              "      <td>159984.0</td>\n",
              "      <td>0.078708</td>\n",
              "      <td>808.0</td>\n",
              "      <td>0.000039</td>\n",
              "      <td>128.0</td>\n",
              "      <td>False</td>\n",
              "      <td>8.0</td>\n",
              "      <td>cpu</td>\n",
              "      <td>2.0</td>\n",
              "      <td>64.0</td>\n",
              "      <td>(5, 20)</td>\n",
              "      <td>sheila</td>\n",
              "      <td>0.0003</td>\n",
              "      <td>40.0</td>\n",
              "      <td>2.0</td>\n",
              "      <td>20.0</td>\n",
              "      <td>16000.0</td>\n",
              "      <td>(2, 8)</td>\n",
              "      <td>0.00001</td>\n",
              "    </tr>\n",
              "    <tr>\n",
              "      <th>5</th>\n",
              "      <td>DKD_16_4</td>\n",
              "      <td>150952.0</td>\n",
              "      <td>0.029775</td>\n",
              "      <td>6679.0</td>\n",
              "      <td>0.000052</td>\n",
              "      <td>128.0</td>\n",
              "      <td>False</td>\n",
              "      <td>4.0</td>\n",
              "      <td>cpu</td>\n",
              "      <td>2.0</td>\n",
              "      <td>16.0</td>\n",
              "      <td>(5, 20)</td>\n",
              "      <td>sheila</td>\n",
              "      <td>0.0003</td>\n",
              "      <td>40.0</td>\n",
              "      <td>2.0</td>\n",
              "      <td>20.0</td>\n",
              "      <td>16000.0</td>\n",
              "      <td>(2, 8)</td>\n",
              "      <td>0.00001</td>\n",
              "    </tr>\n",
              "    <tr>\n",
              "      <th>6</th>\n",
              "      <td>DKD_16_4 + dqint8</td>\n",
              "      <td>79992.0</td>\n",
              "      <td>0.014926</td>\n",
              "      <td>404.0</td>\n",
              "      <td>0.000053</td>\n",
              "      <td>128.0</td>\n",
              "      <td>False</td>\n",
              "      <td>4.0</td>\n",
              "      <td>cpu</td>\n",
              "      <td>2.0</td>\n",
              "      <td>16.0</td>\n",
              "      <td>(5, 20)</td>\n",
              "      <td>sheila</td>\n",
              "      <td>0.0003</td>\n",
              "      <td>40.0</td>\n",
              "      <td>2.0</td>\n",
              "      <td>20.0</td>\n",
              "      <td>16000.0</td>\n",
              "      <td>(2, 8)</td>\n",
              "      <td>0.00001</td>\n",
              "    </tr>\n",
              "    <tr>\n",
              "      <th>7</th>\n",
              "      <td>DKD_16_8</td>\n",
              "      <td>268960.0</td>\n",
              "      <td>0.044484</td>\n",
              "      <td>10539.0</td>\n",
              "      <td>0.000054</td>\n",
              "      <td>128.0</td>\n",
              "      <td>False</td>\n",
              "      <td>8.0</td>\n",
              "      <td>cpu</td>\n",
              "      <td>2.0</td>\n",
              "      <td>16.0</td>\n",
              "      <td>(5, 20)</td>\n",
              "      <td>sheila</td>\n",
              "      <td>0.0003</td>\n",
              "      <td>40.0</td>\n",
              "      <td>2.0</td>\n",
              "      <td>50.0</td>\n",
              "      <td>16000.0</td>\n",
              "      <td>(2, 8)</td>\n",
              "      <td>0.00001</td>\n",
              "    </tr>\n",
              "    <tr>\n",
              "      <th>8</th>\n",
              "      <td>DKD_32_8</td>\n",
              "      <td>434256.0</td>\n",
              "      <td>0.101125</td>\n",
              "      <td>25387.0</td>\n",
              "      <td>0.000053</td>\n",
              "      <td>128.0</td>\n",
              "      <td>False</td>\n",
              "      <td>8.0</td>\n",
              "      <td>cpu</td>\n",
              "      <td>2.0</td>\n",
              "      <td>32.0</td>\n",
              "      <td>(5, 20)</td>\n",
              "      <td>sheila</td>\n",
              "      <td>0.0003</td>\n",
              "      <td>40.0</td>\n",
              "      <td>2.0</td>\n",
              "      <td>50.0</td>\n",
              "      <td>16000.0</td>\n",
              "      <td>(2, 8)</td>\n",
              "      <td>0.00001</td>\n",
              "    </tr>\n",
              "    <tr>\n",
              "      <th>9</th>\n",
              "      <td>DKD_32_4</td>\n",
              "      <td>278232.0</td>\n",
              "      <td>0.073232</td>\n",
              "      <td>18071.0</td>\n",
              "      <td>0.000055</td>\n",
              "      <td>128.0</td>\n",
              "      <td>False</td>\n",
              "      <td>4.0</td>\n",
              "      <td>cpu</td>\n",
              "      <td>2.0</td>\n",
              "      <td>32.0</td>\n",
              "      <td>(5, 20)</td>\n",
              "      <td>sheila</td>\n",
              "      <td>0.0003</td>\n",
              "      <td>40.0</td>\n",
              "      <td>2.0</td>\n",
              "      <td>50.0</td>\n",
              "      <td>16000.0</td>\n",
              "      <td>(2, 8)</td>\n",
              "      <td>0.00001</td>\n",
              "    </tr>\n",
              "    <tr>\n",
              "      <th>10</th>\n",
              "      <td>DKD_8_8</td>\n",
              "      <td>207432.0</td>\n",
              "      <td>0.022532</td>\n",
              "      <td>5035.0</td>\n",
              "      <td>0.000074</td>\n",
              "      <td>128.0</td>\n",
              "      <td>False</td>\n",
              "      <td>8.0</td>\n",
              "      <td>cuda:0</td>\n",
              "      <td>2.0</td>\n",
              "      <td>8.0</td>\n",
              "      <td>(5, 20)</td>\n",
              "      <td>sheila</td>\n",
              "      <td>0.0003</td>\n",
              "      <td>40.0</td>\n",
              "      <td>2.0</td>\n",
              "      <td>50.0</td>\n",
              "      <td>16000.0</td>\n",
              "      <td>(2, 8)</td>\n",
              "      <td>0.00001</td>\n",
              "    </tr>\n",
              "    <tr>\n",
              "      <th>11</th>\n",
              "      <td>DKD_8_16</td>\n",
              "      <td>405432.0</td>\n",
              "      <td>0.038768</td>\n",
              "      <td>9299.0</td>\n",
              "      <td>0.000120</td>\n",
              "      <td>128.0</td>\n",
              "      <td>False</td>\n",
              "      <td>16.0</td>\n",
              "      <td>cuda:0</td>\n",
              "      <td>2.0</td>\n",
              "      <td>8.0</td>\n",
              "      <td>(5, 20)</td>\n",
              "      <td>sheila</td>\n",
              "      <td>0.0003</td>\n",
              "      <td>40.0</td>\n",
              "      <td>2.0</td>\n",
              "      <td>50.0</td>\n",
              "      <td>16000.0</td>\n",
              "      <td>(2, 8)</td>\n",
              "      <td>0.00001</td>\n",
              "    </tr>\n",
              "    <tr>\n",
              "      <th>12</th>\n",
              "      <td>DKD_16_16</td>\n",
              "      <td>504976.0</td>\n",
              "      <td>0.072886</td>\n",
              "      <td>18259.0</td>\n",
              "      <td>0.000054</td>\n",
              "      <td>128.0</td>\n",
              "      <td>False</td>\n",
              "      <td>16.0</td>\n",
              "      <td>cuda:0</td>\n",
              "      <td>2.0</td>\n",
              "      <td>16.0</td>\n",
              "      <td>(5, 20)</td>\n",
              "      <td>sheila</td>\n",
              "      <td>0.0003</td>\n",
              "      <td>40.0</td>\n",
              "      <td>2.0</td>\n",
              "      <td>50.0</td>\n",
              "      <td>16000.0</td>\n",
              "      <td>(2, 8)</td>\n",
              "      <td>0.00001</td>\n",
              "    </tr>\n",
              "    <tr>\n",
              "      <th>13</th>\n",
              "      <td>DKD_32_16</td>\n",
              "      <td>746304.0</td>\n",
              "      <td>0.155894</td>\n",
              "      <td>40019.0</td>\n",
              "      <td>0.000050</td>\n",
              "      <td>128.0</td>\n",
              "      <td>False</td>\n",
              "      <td>16.0</td>\n",
              "      <td>cuda:0</td>\n",
              "      <td>2.0</td>\n",
              "      <td>32.0</td>\n",
              "      <td>(5, 20)</td>\n",
              "      <td>sheila</td>\n",
              "      <td>0.0003</td>\n",
              "      <td>40.0</td>\n",
              "      <td>2.0</td>\n",
              "      <td>50.0</td>\n",
              "      <td>16000.0</td>\n",
              "      <td>(2, 8)</td>\n",
              "      <td>0.00001</td>\n",
              "    </tr>\n",
              "    <tr>\n",
              "      <th>14</th>\n",
              "      <td>DKD_64_4</td>\n",
              "      <td>701752.0</td>\n",
              "      <td>0.217723</td>\n",
              "      <td>56215.0</td>\n",
              "      <td>0.000047</td>\n",
              "      <td>128.0</td>\n",
              "      <td>False</td>\n",
              "      <td>4.0</td>\n",
              "      <td>cuda:0</td>\n",
              "      <td>2.0</td>\n",
              "      <td>64.0</td>\n",
              "      <td>(5, 20)</td>\n",
              "      <td>sheila</td>\n",
              "      <td>0.0003</td>\n",
              "      <td>40.0</td>\n",
              "      <td>2.0</td>\n",
              "      <td>50.0</td>\n",
              "      <td>16000.0</td>\n",
              "      <td>(2, 8)</td>\n",
              "      <td>0.00001</td>\n",
              "    </tr>\n",
              "    <tr>\n",
              "      <th>15</th>\n",
              "      <td>DKD_8_4</td>\n",
              "      <td>108432.0</td>\n",
              "      <td>0.015370</td>\n",
              "      <td>2903.0</td>\n",
              "      <td>0.000146</td>\n",
              "      <td>128.0</td>\n",
              "      <td>False</td>\n",
              "      <td>4.0</td>\n",
              "      <td>cpu</td>\n",
              "      <td>2.0</td>\n",
              "      <td>8.0</td>\n",
              "      <td>(5, 20)</td>\n",
              "      <td>sheila</td>\n",
              "      <td>0.0003</td>\n",
              "      <td>40.0</td>\n",
              "      <td>2.0</td>\n",
              "      <td>50.0</td>\n",
              "      <td>16000.0</td>\n",
              "      <td>(2, 8)</td>\n",
              "      <td>0.00001</td>\n",
              "    </tr>\n",
              "  </tbody>\n",
              "</table>\n",
              "</div>"
            ],
            "text/plain": [
              "                        SETTING       MACS  ...  stride  weight_decay\n",
              "0                    Base model   933808.0  ...  (2, 8)       0.00001\n",
              "1   Dark Knowledge Distillation   150952.0  ...  (2, 8)       0.00001\n",
              "2                       DQ_int8   159984.0  ...  (2, 8)       0.00001\n",
              "3                     Base_5e-5  1867616.0  ...  (2, 8)       0.00001\n",
              "4                      DQ_int8_   159984.0  ...  (2, 8)       0.00001\n",
              "5                      DKD_16_4   150952.0  ...  (2, 8)       0.00001\n",
              "6             DKD_16_4 + dqint8    79992.0  ...  (2, 8)       0.00001\n",
              "7                      DKD_16_8   268960.0  ...  (2, 8)       0.00001\n",
              "8                      DKD_32_8   434256.0  ...  (2, 8)       0.00001\n",
              "9                      DKD_32_4   278232.0  ...  (2, 8)       0.00001\n",
              "10                      DKD_8_8   207432.0  ...  (2, 8)       0.00001\n",
              "11                     DKD_8_16   405432.0  ...  (2, 8)       0.00001\n",
              "12                    DKD_16_16   504976.0  ...  (2, 8)       0.00001\n",
              "13                    DKD_32_16   746304.0  ...  (2, 8)       0.00001\n",
              "14                     DKD_64_4   701752.0  ...  (2, 8)       0.00001\n",
              "15                      DKD_8_4   108432.0  ...  (2, 8)       0.00001\n",
              "\n",
              "[16 rows x 20 columns]"
            ]
          },
          "metadata": {},
          "execution_count": 80
        }
      ]
    },
    {
      "cell_type": "markdown",
      "metadata": {
        "id": "H2xnuhzCVg1C"
      },
      "source": [
        "## 1. hidden=16, cnn_out=4"
      ]
    },
    {
      "cell_type": "code",
      "metadata": {
        "colab": {
          "base_uri": "https://localhost:8080/"
        },
        "id": "rQ9r0rxp8FCf",
        "outputId": "d099bb7b-8fc5-47e3-d8c4-27c8691e3344"
      },
      "source": [
        "student_config = TaskConfig\n",
        "student_config.hidden_size = 16\n",
        "student_config.cnn_out_channels = 4\n",
        "student_config.num_epochs = 50\n",
        "\n",
        "student_model = CRNN(student_config).to(student_config.device)\n",
        "student_opt = torch.optim.Adam(\n",
        "    student_model.parameters(),\n",
        "    lr=student_config.learning_rate,\n",
        "    weight_decay=student_config.weight_decay\n",
        ")\n",
        "print('Number of params %d' % count_parameters(student_model))\n",
        "student_model"
      ],
      "execution_count": null,
      "outputs": [
        {
          "name": "stdout",
          "output_type": "stream",
          "text": [
            "Number of params 6679\n"
          ]
        },
        {
          "data": {
            "text/plain": [
              "CRNN(\n",
              "  (conv): Sequential(\n",
              "    (0): Conv2d(1, 4, kernel_size=(5, 20), stride=(2, 8))\n",
              "    (1): Flatten(start_dim=1, end_dim=2)\n",
              "  )\n",
              "  (gru): GRU(72, 16, num_layers=2, batch_first=True, dropout=0.1)\n",
              "  (attention): Attention(\n",
              "    (energy): Sequential(\n",
              "      (0): Linear(in_features=16, out_features=16, bias=True)\n",
              "      (1): Tanh()\n",
              "      (2): Linear(in_features=16, out_features=1, bias=True)\n",
              "    )\n",
              "  )\n",
              "  (classifier): Linear(in_features=16, out_features=2, bias=True)\n",
              ")"
            ]
          },
          "execution_count": 28,
          "metadata": {},
          "output_type": "execute_result"
        }
      ]
    },
    {
      "cell_type": "code",
      "metadata": {
        "colab": {
          "background_save": true,
          "base_uri": "https://localhost:8080/",
          "height": 314
        },
        "id": "YqY0_5DO-P-n",
        "outputId": "914c033f-2b6f-4041-e9d6-28c0734e5e5c"
      },
      "source": [
        "res_distill = train_w_teacher(student_model, model, student_config, student_opt, \n",
        "                (train_loader, val_loader), (melspec_train, melspec_val), history=res_distill)"
      ],
      "execution_count": null,
      "outputs": [
        {
          "data": {
            "image/png": "[encoded data removed]",
            "text/plain": [
              "<Figure size 432x288 with 1 Axes>"
            ]
          },
          "metadata": {},
          "output_type": "display_data"
        },
        {
          "name": "stdout",
          "output_type": "stream",
          "text": [
            "END OF EPOCH 1 / 50\n"
          ]
        }
      ]
    },
    {
      "cell_type": "code",
      "metadata": {
        "colab": {
          "base_uri": "https://localhost:8080/"
        },
        "id": "7fecvbAqITF1",
        "outputId": "cb27764d-655e-4cd1-ff27-5cd1519575c9"
      },
      "source": [
        "res_distill['val_metric']"
      ],
      "execution_count": null,
      "outputs": [
        {
          "output_type": "execute_result",
          "data": {
            "text/plain": [
              "[0.001260172990253055,\n",
              " 0.0006067921731436191,\n",
              " 0.00040931707236292953,\n",
              " 0.00032228934221364096,\n",
              " 0.00024173341741607878,\n",
              " 0.0001806555679232979,\n",
              " 0.00016624394051488895,\n",
              " 0.00015420739704376645,\n",
              " 0.00013934820356677335,\n",
              " 0.0001234804945485707,\n",
              " 0.0001274906865230845,\n",
              " 0.0001030714818211344,\n",
              " 0.00010208086892266819,\n",
              " 9.208522672428931e-05,\n",
              " 7.852695861998076e-05,\n",
              " 7.156283059281171e-05,\n",
              " 6.83761601844927e-05,\n",
              " 5.9800794310420786e-05,\n",
              " 5.5987531406084004e-05,\n",
              " 5.2263781715464045e-05]"
            ]
          },
          "metadata": {},
          "execution_count": 36
        }
      ]
    },
    {
      "cell_type": "code",
      "metadata": {
        "colab": {
          "base_uri": "https://localhost:8080/"
        },
        "id": "PWSmveFPPJJp",
        "outputId": "8ac59229-c446-415d-ed0e-5e11784c853a"
      },
      "source": [
        "!pip install thop\n",
        "from thop import profile"
      ],
      "execution_count": null,
      "outputs": [
        {
          "output_type": "stream",
          "name": "stdout",
          "text": [
            "Requirement already satisfied: thop in /usr/local/lib/python3.7/dist-packages (0.0.31.post2005241907)\n",
            "Requirement already satisfied: torch>=1.0.0 in /usr/local/lib/python3.7/dist-packages (from thop) (1.9.1)\n",
            "Requirement already satisfied: typing-extensions in /usr/local/lib/python3.7/dist-packages (from torch>=1.0.0->thop) (3.10.0.2)\n"
          ]
        }
      ]
    },
    {
      "cell_type": "code",
      "metadata": {
        "colab": {
          "base_uri": "https://localhost:8080/"
        },
        "id": "IZWOv2OvKaf8",
        "outputId": "8c0d2356-e603-43b5-cf0b-e70e4f8e8413"
      },
      "source": [
        "student_mb_sz = print_size_of_model(student_model, 'Distilled, cnn_out=4, hidden_sz=16') / (2 ** (20))"
      ],
      "execution_count": null,
      "outputs": [
        {
          "output_type": "stream",
          "name": "stdout",
          "text": [
            "model:  Distilled, cnn_out=4, hidden_sz=16  \t Size (KB): 30.4892578125\n"
          ]
        }
      ]
    },
    {
      "cell_type": "code",
      "metadata": {
        "colab": {
          "base_uri": "https://localhost:8080/"
        },
        "id": "JYPWm-qnPO8r",
        "outputId": "8b410961-760f-4e73-9146-bf1eaeda01ef"
      },
      "source": [
        "student_macs, student_n_params = profile(CRNN(student_config), (torch.randn(1, 40, 101),))"
      ],
      "execution_count": null,
      "outputs": [
        {
          "output_type": "stream",
          "name": "stdout",
          "text": [
            "[INFO] Register count_convNd() for <class 'torch.nn.modules.conv.Conv2d'>.\n",
            "\u001b[91m[WARN] Cannot find rule for <class 'torch.nn.modules.flatten.Flatten'>. Treat it as zero Macs and zero Params.\u001b[00m\n",
            "\u001b[91m[WARN] Cannot find rule for <class 'torch.nn.modules.container.Sequential'>. Treat it as zero Macs and zero Params.\u001b[00m\n",
            "[INFO] Register count_gru() for <class 'torch.nn.modules.rnn.GRU'>.\n",
            "[INFO] Register count_linear() for <class 'torch.nn.modules.linear.Linear'>.\n",
            "\u001b[91m[WARN] Cannot find rule for <class 'torch.nn.modules.activation.Tanh'>. Treat it as zero Macs and zero Params.\u001b[00m\n",
            "\u001b[91m[WARN] Cannot find rule for <class '__main__.Attention'>. Treat it as zero Macs and zero Params.\u001b[00m\n",
            "\u001b[91m[WARN] Cannot find rule for <class '__main__.CRNN'>. Treat it as zero Macs and zero Params.\u001b[00m\n"
          ]
        }
      ]
    },
    {
      "cell_type": "code",
      "metadata": {
        "id": "KumMqRSBN_xt"
      },
      "source": [
        "table_ = pd.DataFrame(columns=table.columns)\n",
        "table_= table_.append(\n",
        "    {\n",
        "        **{\n",
        "            'SETTING': 'Dark Knowledge Distillation_',\n",
        "            'MACS': student_macs, 'MB_SZ': student_mb_sz, 'N_PARAMS': student_n_params, \n",
        "            'METRIC': res_distill['val_metric'][-1]\n",
        "        },\n",
        "        **config_to_dict(student_config) \n",
        "    },\n",
        "    ignore_index=True\n",
        ")\n",
        "table_.to_csv('/content/drive/MyDrive/Colab Notebooks/DLA/KWS/kws_experiments.csv', mode='a', header=False, index=False)"
      ],
      "execution_count": null,
      "outputs": []
    },
    {
      "cell_type": "code",
      "metadata": {
        "colab": {
          "base_uri": "https://localhost:8080/",
          "height": 184
        },
        "id": "rxdFWYcRPiOz",
        "outputId": "e458d472-55a4-481c-a914-c9fb5091303a"
      },
      "source": [
        "results_df = results_df.append(\n",
        "    {\n",
        "        **{\n",
        "            'SETTING': 'Dark Knowledge Distillation',\n",
        "            'MACS': student_macs, 'MB_SZ': student_mb_sz, 'N_PARAMS': student_n_params, \n",
        "            'METRIC': res_distill['val_metric'][-1]\n",
        "        },\n",
        "        **config_to_dict(student_config) \n",
        "    },\n",
        "    ignore_index=True)\n",
        "results_df"
      ],
      "execution_count": null,
      "outputs": [
        {
          "data": {
            "text/html": [
              "<div>\n",
              "<style scoped>\n",
              "    .dataframe tbody tr th:only-of-type {\n",
              "        vertical-align: middle;\n",
              "    }\n",
              "\n",
              "    .dataframe tbody tr th {\n",
              "        vertical-align: top;\n",
              "    }\n",
              "\n",
              "    .dataframe thead th {\n",
              "        text-align: right;\n",
              "    }\n",
              "</style>\n",
              "<table border=\"1\" class=\"dataframe\">\n",
              "  <thead>\n",
              "    <tr style=\"text-align: right;\">\n",
              "      <th></th>\n",
              "      <th>SETTING</th>\n",
              "      <th>MACS</th>\n",
              "      <th>MB_SZ</th>\n",
              "      <th>N_PARAMS</th>\n",
              "      <th>METRIC</th>\n",
              "      <th>batch_size</th>\n",
              "      <th>bidirectional</th>\n",
              "      <th>cnn_out_channels</th>\n",
              "      <th>device</th>\n",
              "      <th>gru_num_layers</th>\n",
              "      <th>hidden_size</th>\n",
              "      <th>kernel_size</th>\n",
              "      <th>keyword</th>\n",
              "      <th>learning_rate</th>\n",
              "      <th>n_mels</th>\n",
              "      <th>num_classes</th>\n",
              "      <th>num_epochs</th>\n",
              "      <th>sample_rate</th>\n",
              "      <th>stride</th>\n",
              "      <th>weight_decay</th>\n",
              "    </tr>\n",
              "  </thead>\n",
              "  <tbody>\n",
              "    <tr>\n",
              "      <th>0</th>\n",
              "      <td>Base model</td>\n",
              "      <td>933808.0</td>\n",
              "      <td>0.268719</td>\n",
              "      <td>70443.0</td>\n",
              "      <td>0.000019</td>\n",
              "      <td>128.0</td>\n",
              "      <td>0.0</td>\n",
              "      <td>8.0</td>\n",
              "      <td>cuda:0</td>\n",
              "      <td>2.0</td>\n",
              "      <td>64.0</td>\n",
              "      <td>(5, 20)</td>\n",
              "      <td>sheila</td>\n",
              "      <td>0.0003</td>\n",
              "      <td>40.0</td>\n",
              "      <td>2.0</td>\n",
              "      <td>20.0</td>\n",
              "      <td>16000.0</td>\n",
              "      <td>(2, 8)</td>\n",
              "      <td>0.00001</td>\n",
              "    </tr>\n",
              "    <tr>\n",
              "      <th>1</th>\n",
              "      <td>Dark Knowledge Distillation</td>\n",
              "      <td>150952.0</td>\n",
              "      <td>0.025478</td>\n",
              "      <td>6679.0</td>\n",
              "      <td>0.000057</td>\n",
              "      <td>128.0</td>\n",
              "      <td>0.0</td>\n",
              "      <td>4.0</td>\n",
              "      <td>cuda:0</td>\n",
              "      <td>2.0</td>\n",
              "      <td>16.0</td>\n",
              "      <td>(5, 20)</td>\n",
              "      <td>sheila</td>\n",
              "      <td>0.0003</td>\n",
              "      <td>40.0</td>\n",
              "      <td>2.0</td>\n",
              "      <td>50.0</td>\n",
              "      <td>16000.0</td>\n",
              "      <td>(2, 8)</td>\n",
              "      <td>0.00001</td>\n",
              "    </tr>\n",
              "  </tbody>\n",
              "</table>\n",
              "</div>"
            ],
            "text/plain": [
              "                       SETTING      MACS  ...  stride  weight_decay\n",
              "0                   Base model  933808.0  ...  (2, 8)       0.00001\n",
              "1  Dark Knowledge Distillation  150952.0  ...  (2, 8)       0.00001\n",
              "\n",
              "[2 rows x 20 columns]"
            ]
          },
          "execution_count": 248,
          "metadata": {},
          "output_type": "execute_result"
        }
      ]
    },
    {
      "cell_type": "code",
      "metadata": {
        "id": "jJC2SyTDRA-X"
      },
      "source": [
        "results_df.to_csv('drive/MyDrive/Colab Notebooks/DLA/KWS/kws_experiments.csv', index=False)"
      ],
      "execution_count": null,
      "outputs": []
    },
    {
      "cell_type": "code",
      "metadata": {
        "id": "BPBWX2aSz00Z"
      },
      "source": [
        "table.to_csv('drive/MyDrive/Colab Notebooks/DLA/KWS/kws_experiments.csv', index=False)"
      ],
      "execution_count": null,
      "outputs": []
    },
    {
      "cell_type": "code",
      "metadata": {
        "colab": {
          "base_uri": "https://localhost:8080/",
          "height": 184
        },
        "id": "CSD3pwawRtBT",
        "outputId": "f84bf408-34d0-42d3-a804-b4b93d77d46a"
      },
      "source": [
        "pd.read_csv('drive/MyDrive/Colab Notebooks/DLA/KWS/kws_experiments.csv')"
      ],
      "execution_count": null,
      "outputs": [
        {
          "data": {
            "text/html": [
              "<div>\n",
              "<style scoped>\n",
              "    .dataframe tbody tr th:only-of-type {\n",
              "        vertical-align: middle;\n",
              "    }\n",
              "\n",
              "    .dataframe tbody tr th {\n",
              "        vertical-align: top;\n",
              "    }\n",
              "\n",
              "    .dataframe thead th {\n",
              "        text-align: right;\n",
              "    }\n",
              "</style>\n",
              "<table border=\"1\" class=\"dataframe\">\n",
              "  <thead>\n",
              "    <tr style=\"text-align: right;\">\n",
              "      <th></th>\n",
              "      <th>SETTING</th>\n",
              "      <th>MACS</th>\n",
              "      <th>MB_SZ</th>\n",
              "      <th>N_PARAMS</th>\n",
              "      <th>METRIC</th>\n",
              "      <th>batch_size</th>\n",
              "      <th>bidirectional</th>\n",
              "      <th>cnn_out_channels</th>\n",
              "      <th>device</th>\n",
              "      <th>gru_num_layers</th>\n",
              "      <th>hidden_size</th>\n",
              "      <th>kernel_size</th>\n",
              "      <th>keyword</th>\n",
              "      <th>learning_rate</th>\n",
              "      <th>n_mels</th>\n",
              "      <th>num_classes</th>\n",
              "      <th>num_epochs</th>\n",
              "      <th>sample_rate</th>\n",
              "      <th>stride</th>\n",
              "      <th>weight_decay</th>\n",
              "    </tr>\n",
              "  </thead>\n",
              "  <tbody>\n",
              "    <tr>\n",
              "      <th>0</th>\n",
              "      <td>Base model</td>\n",
              "      <td>933808.0</td>\n",
              "      <td>0.268719</td>\n",
              "      <td>70443.0</td>\n",
              "      <td>0.000019</td>\n",
              "      <td>128.0</td>\n",
              "      <td>0.0</td>\n",
              "      <td>8.0</td>\n",
              "      <td>cuda:0</td>\n",
              "      <td>2.0</td>\n",
              "      <td>64.0</td>\n",
              "      <td>(5, 20)</td>\n",
              "      <td>sheila</td>\n",
              "      <td>0.0003</td>\n",
              "      <td>40.0</td>\n",
              "      <td>2.0</td>\n",
              "      <td>20.0</td>\n",
              "      <td>16000.0</td>\n",
              "      <td>(2, 8)</td>\n",
              "      <td>0.00001</td>\n",
              "    </tr>\n",
              "    <tr>\n",
              "      <th>1</th>\n",
              "      <td>Dark Knowledge Distillation</td>\n",
              "      <td>150952.0</td>\n",
              "      <td>0.025478</td>\n",
              "      <td>6679.0</td>\n",
              "      <td>0.000057</td>\n",
              "      <td>128.0</td>\n",
              "      <td>0.0</td>\n",
              "      <td>4.0</td>\n",
              "      <td>cuda:0</td>\n",
              "      <td>2.0</td>\n",
              "      <td>16.0</td>\n",
              "      <td>(5, 20)</td>\n",
              "      <td>sheila</td>\n",
              "      <td>0.0003</td>\n",
              "      <td>40.0</td>\n",
              "      <td>2.0</td>\n",
              "      <td>50.0</td>\n",
              "      <td>16000.0</td>\n",
              "      <td>(2, 8)</td>\n",
              "      <td>0.00001</td>\n",
              "    </tr>\n",
              "  </tbody>\n",
              "</table>\n",
              "</div>"
            ],
            "text/plain": [
              "                       SETTING      MACS  ...  stride  weight_decay\n",
              "0                   Base model  933808.0  ...  (2, 8)       0.00001\n",
              "1  Dark Knowledge Distillation  150952.0  ...  (2, 8)       0.00001\n",
              "\n",
              "[2 rows x 20 columns]"
            ]
          },
          "execution_count": 250,
          "metadata": {},
          "output_type": "execute_result"
        }
      ]
    },
    {
      "cell_type": "markdown",
      "metadata": {
        "id": "-SzyrsjUVnFB"
      },
      "source": [
        "## 2. hidden=16, cnn_out = 8"
      ]
    },
    {
      "cell_type": "code",
      "metadata": {
        "colab": {
          "base_uri": "https://localhost:8080/"
        },
        "id": "g8C310MSV0pp",
        "outputId": "ea9f1d9f-be6e-4df0-dc80-6cd4d163c2f4"
      },
      "source": [
        "student_config_16_8 = TaskConfig\n",
        "student_config_16_8.hidden_size = 16\n",
        "student_config_16_8.cnn_out_channels = 8\n",
        "student_config_16_8.num_epochs = 50\n",
        "\n",
        "student_model_16_8 = CRNN(student_config_16_8).to(student_config_16_8.device)\n",
        "student_opt_16_8 = torch.optim.Adam(\n",
        "    student_model_16_8.parameters(),\n",
        "    lr=student_config.learning_rate,\n",
        "    weight_decay=student_config.weight_decay\n",
        ")\n",
        "print('Number of params %d' % count_parameters(student_model_16_8))\n",
        "student_model_16_8"
      ],
      "execution_count": null,
      "outputs": [
        {
          "output_type": "stream",
          "name": "stdout",
          "text": [
            "Number of params 10539\n"
          ]
        },
        {
          "output_type": "execute_result",
          "data": {
            "text/plain": [
              "CRNN(\n",
              "  (conv): Sequential(\n",
              "    (0): Conv2d(1, 8, kernel_size=(5, 20), stride=(2, 8))\n",
              "    (1): Flatten(start_dim=1, end_dim=2)\n",
              "  )\n",
              "  (gru): GRU(144, 16, num_layers=2, batch_first=True, dropout=0.1)\n",
              "  (attention): Attention(\n",
              "    (energy): Sequential(\n",
              "      (0): Linear(in_features=16, out_features=16, bias=True)\n",
              "      (1): Tanh()\n",
              "      (2): Linear(in_features=16, out_features=1, bias=True)\n",
              "    )\n",
              "  )\n",
              "  (classifier): Linear(in_features=16, out_features=2, bias=True)\n",
              ")"
            ]
          },
          "metadata": {},
          "execution_count": 70
        }
      ]
    },
    {
      "cell_type": "code",
      "metadata": {
        "colab": {
          "base_uri": "https://localhost:8080/",
          "height": 297
        },
        "id": "OROXflvCV0pq",
        "outputId": "9941374e-e355-4eea-f7f6-80d36e8b1b78"
      },
      "source": [
        "res_distill_16_8 = train_w_teacher(student_model_16_8, model, student_config_16_8, student_opt_16_8, \n",
        "                (train_loader, val_loader), (melspec_train, melspec_val))"
      ],
      "execution_count": null,
      "outputs": [
        {
          "output_type": "display_data",
          "data": {
            "image/png": "[encoded data removed]",
            "text/plain": [
              "<Figure size 432x288 with 1 Axes>"
            ]
          },
          "metadata": {
            "needs_background": "light"
          }
        },
        {
          "output_type": "stream",
          "name": "stdout",
          "text": [
            "END OF EPOCH 30 / 50\n"
          ]
        }
      ]
    },
    {
      "cell_type": "code",
      "metadata": {
        "colab": {
          "base_uri": "https://localhost:8080/"
        },
        "id": "P3C9tGx7V0pq",
        "outputId": "f98be593-21d8-4818-dc50-e2d5c9264ee7"
      },
      "source": [
        "res_distill_16_8['val_metric']"
      ],
      "execution_count": null,
      "outputs": [
        {
          "output_type": "execute_result",
          "data": {
            "text/plain": [
              "[0.0012510008696208711,\n",
              " 0.00042260381705229704,\n",
              " 0.000404462472405687,\n",
              " 0.0002460002139365808,\n",
              " 0.00020282202341337456,\n",
              " 0.00016982745283735255,\n",
              " 0.00015530542579869286,\n",
              " 0.00014369257820582996,\n",
              " 0.00013965553226720113,\n",
              " 0.00013256906951461905,\n",
              " 0.0001341445020760352,\n",
              " 0.00012574816262939694,\n",
              " 0.00012050865585317207,\n",
              " 0.000128153084304589,\n",
              " 0.00010460215777569213,\n",
              " 0.0001086213010715776,\n",
              " 8.933418728939219e-05,\n",
              " 8.834954193850711e-05,\n",
              " 0.00010322663805824356,\n",
              " 0.00010943288754261014,\n",
              " 0.00010088735940644384,\n",
              " 0.00010612686618266873,\n",
              " 9.399484195024824e-05,\n",
              " 8.979965600071969e-05,\n",
              " 9.768278635538148e-05,\n",
              " 8.616541952381655e-05,\n",
              " 7.088849771614495e-05,\n",
              " 8.012029382414026e-05,\n",
              " 7.49165923334021e-05,\n",
              " 6.225942391384294e-05,\n",
              " 5.403017579947608e-05]"
            ]
          },
          "metadata": {},
          "execution_count": 72
        }
      ]
    },
    {
      "cell_type": "code",
      "metadata": {
        "id": "np0rB_ZaV0ps"
      },
      "source": [
        "torch.save(student_model_16_8.state_dict(), 'student_model_16_8.pt')"
      ],
      "execution_count": null,
      "outputs": []
    },
    {
      "cell_type": "code",
      "metadata": {
        "colab": {
          "base_uri": "https://localhost:8080/"
        },
        "id": "wBwankcHV0pt",
        "outputId": "e8b1ffa8-f6a5-4d08-a367-cb86b13ca8da"
      },
      "source": [
        "student_16_8_mb_sz = print_size_of_model(student_model_16_8, 'Distilled, cnn_out=8, hidden_sz=16') / (2 ** (20))"
      ],
      "execution_count": null,
      "outputs": [
        {
          "output_type": "stream",
          "name": "stdout",
          "text": [
            "model:  Distilled, cnn_out=8, hidden_sz=16  \t Size (KB): 45.5517578125\n"
          ]
        }
      ]
    },
    {
      "cell_type": "code",
      "metadata": {
        "colab": {
          "base_uri": "https://localhost:8080/"
        },
        "id": "HML3MAs7V0pu",
        "outputId": "685d096d-a78f-4cbf-fa97-ef9a12aaf19a"
      },
      "source": [
        "student_16_8_macs, student_16_8_n_params = profile(CRNN(student_config_16_8), (torch.randn(1, 40, 101),))"
      ],
      "execution_count": null,
      "outputs": [
        {
          "output_type": "stream",
          "name": "stdout",
          "text": [
            "[INFO] Register count_convNd() for <class 'torch.nn.modules.conv.Conv2d'>.\n",
            "\u001b[91m[WARN] Cannot find rule for <class 'torch.nn.modules.flatten.Flatten'>. Treat it as zero Macs and zero Params.\u001b[00m\n",
            "\u001b[91m[WARN] Cannot find rule for <class 'torch.nn.modules.container.Sequential'>. Treat it as zero Macs and zero Params.\u001b[00m\n",
            "[INFO] Register count_gru() for <class 'torch.nn.modules.rnn.GRU'>.\n",
            "[INFO] Register count_linear() for <class 'torch.nn.modules.linear.Linear'>.\n",
            "\u001b[91m[WARN] Cannot find rule for <class 'torch.nn.modules.activation.Tanh'>. Treat it as zero Macs and zero Params.\u001b[00m\n",
            "\u001b[91m[WARN] Cannot find rule for <class '__main__.Attention'>. Treat it as zero Macs and zero Params.\u001b[00m\n",
            "\u001b[91m[WARN] Cannot find rule for <class '__main__.CRNN'>. Treat it as zero Macs and zero Params.\u001b[00m\n"
          ]
        }
      ]
    },
    {
      "cell_type": "code",
      "metadata": {
        "id": "FRSVhGYgV0pw"
      },
      "source": [
        "table_ = pd.DataFrame(columns=table.columns)\n",
        "table_= table_.append(\n",
        "    {\n",
        "        **{\n",
        "            'SETTING': 'DKD_16_8',\n",
        "            'MACS': student_16_8_macs, 'MB_SZ': student_16_8_mb_sz, 'N_PARAMS': student_16_8_n_params, \n",
        "            'METRIC': res_distill_16_8['val_metric'][-1]\n",
        "        },\n",
        "        **config_to_dict(student_config_16_8) \n",
        "    },\n",
        "    ignore_index=True\n",
        ")\n",
        "table_.to_csv('/content/drive/MyDrive/Colab Notebooks/DLA/KWS/kws_experiments.csv', mode='a', header=False, index=False)"
      ],
      "execution_count": null,
      "outputs": []
    },
    {
      "cell_type": "code",
      "metadata": {
        "colab": {
          "base_uri": "https://localhost:8080/",
          "height": 407
        },
        "id": "1yASN3JvV0pw",
        "outputId": "2e248191-6198-4cff-83e7-fc2d642b4c23"
      },
      "source": [
        "pd.read_csv('/content/drive/MyDrive/Colab Notebooks/DLA/KWS/kws_experiments.csv')"
      ],
      "execution_count": null,
      "outputs": [
        {
          "output_type": "execute_result",
          "data": {
            "text/html": [
              "<div>\n",
              "<style scoped>\n",
              "    .dataframe tbody tr th:only-of-type {\n",
              "        vertical-align: middle;\n",
              "    }\n",
              "\n",
              "    .dataframe tbody tr th {\n",
              "        vertical-align: top;\n",
              "    }\n",
              "\n",
              "    .dataframe thead th {\n",
              "        text-align: right;\n",
              "    }\n",
              "</style>\n",
              "<table border=\"1\" class=\"dataframe\">\n",
              "  <thead>\n",
              "    <tr style=\"text-align: right;\">\n",
              "      <th></th>\n",
              "      <th>SETTING</th>\n",
              "      <th>MACS</th>\n",
              "      <th>MB_SZ</th>\n",
              "      <th>N_PARAMS</th>\n",
              "      <th>METRIC</th>\n",
              "      <th>batch_size</th>\n",
              "      <th>bidirectional</th>\n",
              "      <th>cnn_out_channels</th>\n",
              "      <th>device</th>\n",
              "      <th>gru_num_layers</th>\n",
              "      <th>hidden_size</th>\n",
              "      <th>kernel_size</th>\n",
              "      <th>keyword</th>\n",
              "      <th>learning_rate</th>\n",
              "      <th>n_mels</th>\n",
              "      <th>num_classes</th>\n",
              "      <th>num_epochs</th>\n",
              "      <th>sample_rate</th>\n",
              "      <th>stride</th>\n",
              "      <th>weight_decay</th>\n",
              "    </tr>\n",
              "  </thead>\n",
              "  <tbody>\n",
              "    <tr>\n",
              "      <th>0</th>\n",
              "      <td>Base model</td>\n",
              "      <td>933808.0</td>\n",
              "      <td>0.268719</td>\n",
              "      <td>70443.0</td>\n",
              "      <td>0.000019</td>\n",
              "      <td>128.0</td>\n",
              "      <td>0.0</td>\n",
              "      <td>8.0</td>\n",
              "      <td>cuda:0</td>\n",
              "      <td>2.0</td>\n",
              "      <td>64.0</td>\n",
              "      <td>(5, 20)</td>\n",
              "      <td>sheila</td>\n",
              "      <td>0.0003</td>\n",
              "      <td>40.0</td>\n",
              "      <td>2.0</td>\n",
              "      <td>20.0</td>\n",
              "      <td>16000.0</td>\n",
              "      <td>(2, 8)</td>\n",
              "      <td>0.00001</td>\n",
              "    </tr>\n",
              "    <tr>\n",
              "      <th>1</th>\n",
              "      <td>Dark Knowledge Distillation</td>\n",
              "      <td>150952.0</td>\n",
              "      <td>0.025478</td>\n",
              "      <td>6679.0</td>\n",
              "      <td>0.000057</td>\n",
              "      <td>128.0</td>\n",
              "      <td>0.0</td>\n",
              "      <td>4.0</td>\n",
              "      <td>cuda:0</td>\n",
              "      <td>2.0</td>\n",
              "      <td>16.0</td>\n",
              "      <td>(5, 20)</td>\n",
              "      <td>sheila</td>\n",
              "      <td>0.0003</td>\n",
              "      <td>40.0</td>\n",
              "      <td>2.0</td>\n",
              "      <td>50.0</td>\n",
              "      <td>16000.0</td>\n",
              "      <td>(2, 8)</td>\n",
              "      <td>0.00001</td>\n",
              "    </tr>\n",
              "    <tr>\n",
              "      <th>2</th>\n",
              "      <td>DQ_int8</td>\n",
              "      <td>159984.0</td>\n",
              "      <td>0.088321</td>\n",
              "      <td>808.0</td>\n",
              "      <td>0.000014</td>\n",
              "      <td>128.0</td>\n",
              "      <td>False</td>\n",
              "      <td>8.0</td>\n",
              "      <td>cpu</td>\n",
              "      <td>2.0</td>\n",
              "      <td>64.0</td>\n",
              "      <td>(5, 20)</td>\n",
              "      <td>sheila</td>\n",
              "      <td>0.0003</td>\n",
              "      <td>40.0</td>\n",
              "      <td>2.0</td>\n",
              "      <td>20.0</td>\n",
              "      <td>16000.0</td>\n",
              "      <td>(2, 8)</td>\n",
              "      <td>0.00001</td>\n",
              "    </tr>\n",
              "    <tr>\n",
              "      <th>3</th>\n",
              "      <td>Base_5e-5</td>\n",
              "      <td>1867616.0</td>\n",
              "      <td>0.276444</td>\n",
              "      <td>70443.0</td>\n",
              "      <td>0.000040</td>\n",
              "      <td>128.0</td>\n",
              "      <td>False</td>\n",
              "      <td>8.0</td>\n",
              "      <td>cpu</td>\n",
              "      <td>2.0</td>\n",
              "      <td>64.0</td>\n",
              "      <td>(5, 20)</td>\n",
              "      <td>sheila</td>\n",
              "      <td>0.0003</td>\n",
              "      <td>40.0</td>\n",
              "      <td>2.0</td>\n",
              "      <td>20.0</td>\n",
              "      <td>16000.0</td>\n",
              "      <td>(2, 8)</td>\n",
              "      <td>0.00001</td>\n",
              "    </tr>\n",
              "    <tr>\n",
              "      <th>4</th>\n",
              "      <td>DQ_int8_</td>\n",
              "      <td>159984.0</td>\n",
              "      <td>0.078708</td>\n",
              "      <td>808.0</td>\n",
              "      <td>0.000039</td>\n",
              "      <td>128.0</td>\n",
              "      <td>False</td>\n",
              "      <td>8.0</td>\n",
              "      <td>cpu</td>\n",
              "      <td>2.0</td>\n",
              "      <td>64.0</td>\n",
              "      <td>(5, 20)</td>\n",
              "      <td>sheila</td>\n",
              "      <td>0.0003</td>\n",
              "      <td>40.0</td>\n",
              "      <td>2.0</td>\n",
              "      <td>20.0</td>\n",
              "      <td>16000.0</td>\n",
              "      <td>(2, 8)</td>\n",
              "      <td>0.00001</td>\n",
              "    </tr>\n",
              "    <tr>\n",
              "      <th>5</th>\n",
              "      <td>Dark Knowledge Distillation_</td>\n",
              "      <td>150952.0</td>\n",
              "      <td>0.029775</td>\n",
              "      <td>6679.0</td>\n",
              "      <td>0.000052</td>\n",
              "      <td>128.0</td>\n",
              "      <td>False</td>\n",
              "      <td>8.0</td>\n",
              "      <td>cpu</td>\n",
              "      <td>2.0</td>\n",
              "      <td>64.0</td>\n",
              "      <td>(5, 20)</td>\n",
              "      <td>sheila</td>\n",
              "      <td>0.0003</td>\n",
              "      <td>40.0</td>\n",
              "      <td>2.0</td>\n",
              "      <td>20.0</td>\n",
              "      <td>16000.0</td>\n",
              "      <td>(2, 8)</td>\n",
              "      <td>0.00001</td>\n",
              "    </tr>\n",
              "    <tr>\n",
              "      <th>6</th>\n",
              "      <td>DKDistillation + dqint8</td>\n",
              "      <td>79992.0</td>\n",
              "      <td>0.014926</td>\n",
              "      <td>404.0</td>\n",
              "      <td>0.000053</td>\n",
              "      <td>128.0</td>\n",
              "      <td>False</td>\n",
              "      <td>4.0</td>\n",
              "      <td>cpu</td>\n",
              "      <td>2.0</td>\n",
              "      <td>16.0</td>\n",
              "      <td>(5, 20)</td>\n",
              "      <td>sheila</td>\n",
              "      <td>0.0003</td>\n",
              "      <td>40.0</td>\n",
              "      <td>2.0</td>\n",
              "      <td>20.0</td>\n",
              "      <td>16000.0</td>\n",
              "      <td>(2, 8)</td>\n",
              "      <td>0.00001</td>\n",
              "    </tr>\n",
              "    <tr>\n",
              "      <th>7</th>\n",
              "      <td>DKD_16_8</td>\n",
              "      <td>268960.0</td>\n",
              "      <td>0.044484</td>\n",
              "      <td>10539.0</td>\n",
              "      <td>0.000054</td>\n",
              "      <td>128.0</td>\n",
              "      <td>False</td>\n",
              "      <td>8.0</td>\n",
              "      <td>cpu</td>\n",
              "      <td>2.0</td>\n",
              "      <td>16.0</td>\n",
              "      <td>(5, 20)</td>\n",
              "      <td>sheila</td>\n",
              "      <td>0.0003</td>\n",
              "      <td>40.0</td>\n",
              "      <td>2.0</td>\n",
              "      <td>50.0</td>\n",
              "      <td>16000.0</td>\n",
              "      <td>(2, 8)</td>\n",
              "      <td>0.00001</td>\n",
              "    </tr>\n",
              "  </tbody>\n",
              "</table>\n",
              "</div>"
            ],
            "text/plain": [
              "                        SETTING       MACS  ...  stride  weight_decay\n",
              "0                    Base model   933808.0  ...  (2, 8)       0.00001\n",
              "1   Dark Knowledge Distillation   150952.0  ...  (2, 8)       0.00001\n",
              "2                       DQ_int8   159984.0  ...  (2, 8)       0.00001\n",
              "3                     Base_5e-5  1867616.0  ...  (2, 8)       0.00001\n",
              "4                      DQ_int8_   159984.0  ...  (2, 8)       0.00001\n",
              "5  Dark Knowledge Distillation_   150952.0  ...  (2, 8)       0.00001\n",
              "6       DKDistillation + dqint8    79992.0  ...  (2, 8)       0.00001\n",
              "7                      DKD_16_8   268960.0  ...  (2, 8)       0.00001\n",
              "\n",
              "[8 rows x 20 columns]"
            ]
          },
          "metadata": {},
          "execution_count": 79
        }
      ]
    },
    {
      "cell_type": "markdown",
      "metadata": {
        "id": "_Tl0tVPpk1ic"
      },
      "source": [
        "## 3. hidden=32, out=8"
      ]
    },
    {
      "cell_type": "code",
      "metadata": {
        "colab": {
          "base_uri": "https://localhost:8080/"
        },
        "id": "hmgtoaUhk4yn",
        "outputId": "277fa4c6-126a-441d-ad3b-d79a48329266"
      },
      "source": [
        "student_config_32_8 = TaskConfig\n",
        "student_config_32_8.hidden_size = 32\n",
        "student_config_32_8.cnn_out_channels = 8\n",
        "student_config_32_8.num_epochs = 50\n",
        "\n",
        "student_model_32_8 = CRNN(student_config_32_8).to(student_config_32_8.device)\n",
        "student_opt_32_8 = torch.optim.Adam(\n",
        "    student_model_32_8.parameters(),\n",
        "    lr=student_config.learning_rate,\n",
        "    weight_decay=student_config.weight_decay\n",
        ")\n",
        "print('Number of params %d' % count_parameters(student_model_32_8))\n",
        "student_model_32_8"
      ],
      "execution_count": null,
      "outputs": [
        {
          "output_type": "stream",
          "name": "stdout",
          "text": [
            "Number of params 25387\n"
          ]
        },
        {
          "output_type": "execute_result",
          "data": {
            "text/plain": [
              "CRNN(\n",
              "  (conv): Sequential(\n",
              "    (0): Conv2d(1, 8, kernel_size=(5, 20), stride=(2, 8))\n",
              "    (1): Flatten(start_dim=1, end_dim=2)\n",
              "  )\n",
              "  (gru): GRU(144, 32, num_layers=2, batch_first=True, dropout=0.1)\n",
              "  (attention): Attention(\n",
              "    (energy): Sequential(\n",
              "      (0): Linear(in_features=32, out_features=32, bias=True)\n",
              "      (1): Tanh()\n",
              "      (2): Linear(in_features=32, out_features=1, bias=True)\n",
              "    )\n",
              "  )\n",
              "  (classifier): Linear(in_features=32, out_features=2, bias=True)\n",
              ")"
            ]
          },
          "metadata": {},
          "execution_count": 80
        }
      ]
    },
    {
      "cell_type": "code",
      "metadata": {
        "colab": {
          "base_uri": "https://localhost:8080/"
        },
        "id": "pWS9AOF9k8yG",
        "outputId": "394e35ad-07d7-4e55-fc02-815365fe8563"
      },
      "source": [
        "res_distill_32_8 = train_w_teacher(student_model_32_8, model, student_config_32_8, student_opt_32_8, \n",
        "                (train_loader, val_loader), (melspec_train, melspec_val))"
      ],
      "execution_count": null,
      "outputs": [
        {
          "output_type": "display_data",
          "data": {
            "image/png": "[encoded data removed]",
            "text/plain": [
              "<Figure size 432x288 with 1 Axes>"
            ]
          },
          "metadata": {
            "needs_background": "light"
          }
        },
        {
          "output_type": "stream",
          "name": "stdout",
          "text": [
            "END OF EPOCH 10 / 50\n"
          ]
        }
      ]
    },
    {
      "cell_type": "code",
      "metadata": {
        "colab": {
          "base_uri": "https://localhost:8080/"
        },
        "id": "QrUXxoCDp79e",
        "outputId": "23881224-6e6b-4ad4-8b65-0b9e2dffd600"
      },
      "source": [
        "res_distill_32_8"
      ],
      "execution_count": null,
      "outputs": [
        {
          "output_type": "execute_result",
          "data": {
            "text/plain": [
              "defaultdict(list,\n",
              "            {'val_metric': [0.0006135474370054488,\n",
              "              0.0002559869048135879,\n",
              "              0.00021211349499718107,\n",
              "              0.0001450710816970691,\n",
              "              0.00011750101187228671,\n",
              "              0.00010989238870635653,\n",
              "              8.628477047543899e-05,\n",
              "              7.170605173475863e-05,\n",
              "              7.03663373027968e-05,\n",
              "              5.9150331624078514e-05,\n",
              "              5.2884406663900705e-05]})"
            ]
          },
          "metadata": {},
          "execution_count": 82
        }
      ]
    },
    {
      "cell_type": "code",
      "metadata": {
        "id": "M8EtNmZulr0R"
      },
      "source": [
        "torch.save(student_model_32_8.state_dict(), 'student_model_32_8.pt')"
      ],
      "execution_count": null,
      "outputs": []
    },
    {
      "cell_type": "code",
      "metadata": {
        "colab": {
          "base_uri": "https://localhost:8080/"
        },
        "id": "YR9F95GNlzuV",
        "outputId": "8fcf05cd-e758-4eee-c5ef-3d509fcebab6"
      },
      "source": [
        "student_32_8_mb_sz = print_size_of_model(student_model_32_8, 'Distilled, cnn_out=8, hidden_sz=32') / (2 ** (20))\n",
        "student_32_8_macs, student_32_8_n_params = profile(CRNN(student_config_32_8), (torch.randn(1, 40, 101),))"
      ],
      "execution_count": null,
      "outputs": [
        {
          "output_type": "stream",
          "name": "stdout",
          "text": [
            "model:  Distilled, cnn_out=8, hidden_sz=32  \t Size (KB): 103.5517578125\n",
            "[INFO] Register count_convNd() for <class 'torch.nn.modules.conv.Conv2d'>.\n",
            "\u001b[91m[WARN] Cannot find rule for <class 'torch.nn.modules.flatten.Flatten'>. Treat it as zero Macs and zero Params.\u001b[00m\n",
            "\u001b[91m[WARN] Cannot find rule for <class 'torch.nn.modules.container.Sequential'>. Treat it as zero Macs and zero Params.\u001b[00m\n",
            "[INFO] Register count_gru() for <class 'torch.nn.modules.rnn.GRU'>.\n",
            "[INFO] Register count_linear() for <class 'torch.nn.modules.linear.Linear'>.\n",
            "\u001b[91m[WARN] Cannot find rule for <class 'torch.nn.modules.activation.Tanh'>. Treat it as zero Macs and zero Params.\u001b[00m\n",
            "\u001b[91m[WARN] Cannot find rule for <class '__main__.Attention'>. Treat it as zero Macs and zero Params.\u001b[00m\n",
            "\u001b[91m[WARN] Cannot find rule for <class '__main__.CRNN'>. Treat it as zero Macs and zero Params.\u001b[00m\n"
          ]
        }
      ]
    },
    {
      "cell_type": "code",
      "metadata": {
        "id": "_zgWWefalzuX"
      },
      "source": [
        "table_ = pd.DataFrame(columns=table.columns)\n",
        "table_= table_.append(\n",
        "    {\n",
        "        **{\n",
        "            'SETTING': 'DKD_32_8',\n",
        "            'MACS': student_32_8_macs, 'MB_SZ': student_32_8_mb_sz, 'N_PARAMS': student_32_8_n_params, \n",
        "            'METRIC': res_distill_32_8['val_metric'][-1]\n",
        "        },\n",
        "        **config_to_dict(student_config_32_8) \n",
        "    },\n",
        "    ignore_index=True\n",
        ")\n",
        "table_.to_csv('/content/drive/MyDrive/Colab Notebooks/DLA/KWS/kws_experiments.csv', mode='a', header=False, index=False)"
      ],
      "execution_count": null,
      "outputs": []
    },
    {
      "cell_type": "code",
      "metadata": {
        "colab": {
          "base_uri": "https://localhost:8080/"
        },
        "id": "A9CcJWUilzuY",
        "outputId": "a2cae4be-3af8-48b6-c763-881f109ea707"
      },
      "source": [
        "pd.read_csv('/content/drive/MyDrive/Colab Notebooks/DLA/KWS/kws_experiments.csv')"
      ],
      "execution_count": null,
      "outputs": [
        {
          "output_type": "execute_result",
          "data": {
            "text/html": [
              "<div>\n",
              "<style scoped>\n",
              "    .dataframe tbody tr th:only-of-type {\n",
              "        vertical-align: middle;\n",
              "    }\n",
              "\n",
              "    .dataframe tbody tr th {\n",
              "        vertical-align: top;\n",
              "    }\n",
              "\n",
              "    .dataframe thead th {\n",
              "        text-align: right;\n",
              "    }\n",
              "</style>\n",
              "<table border=\"1\" class=\"dataframe\">\n",
              "  <thead>\n",
              "    <tr style=\"text-align: right;\">\n",
              "      <th></th>\n",
              "      <th>SETTING</th>\n",
              "      <th>MACS</th>\n",
              "      <th>MB_SZ</th>\n",
              "      <th>N_PARAMS</th>\n",
              "      <th>METRIC</th>\n",
              "      <th>batch_size</th>\n",
              "      <th>bidirectional</th>\n",
              "      <th>cnn_out_channels</th>\n",
              "      <th>device</th>\n",
              "      <th>gru_num_layers</th>\n",
              "      <th>hidden_size</th>\n",
              "      <th>kernel_size</th>\n",
              "      <th>keyword</th>\n",
              "      <th>learning_rate</th>\n",
              "      <th>n_mels</th>\n",
              "      <th>num_classes</th>\n",
              "      <th>num_epochs</th>\n",
              "      <th>sample_rate</th>\n",
              "      <th>stride</th>\n",
              "      <th>weight_decay</th>\n",
              "    </tr>\n",
              "  </thead>\n",
              "  <tbody>\n",
              "    <tr>\n",
              "      <th>0</th>\n",
              "      <td>Base model</td>\n",
              "      <td>933808.0</td>\n",
              "      <td>0.268719</td>\n",
              "      <td>70443.0</td>\n",
              "      <td>0.000019</td>\n",
              "      <td>128.0</td>\n",
              "      <td>0.0</td>\n",
              "      <td>8.0</td>\n",
              "      <td>cuda:0</td>\n",
              "      <td>2.0</td>\n",
              "      <td>64.0</td>\n",
              "      <td>(5, 20)</td>\n",
              "      <td>sheila</td>\n",
              "      <td>0.0003</td>\n",
              "      <td>40.0</td>\n",
              "      <td>2.0</td>\n",
              "      <td>20.0</td>\n",
              "      <td>16000.0</td>\n",
              "      <td>(2, 8)</td>\n",
              "      <td>0.00001</td>\n",
              "    </tr>\n",
              "    <tr>\n",
              "      <th>1</th>\n",
              "      <td>Dark Knowledge Distillation</td>\n",
              "      <td>150952.0</td>\n",
              "      <td>0.025478</td>\n",
              "      <td>6679.0</td>\n",
              "      <td>0.000057</td>\n",
              "      <td>128.0</td>\n",
              "      <td>0.0</td>\n",
              "      <td>4.0</td>\n",
              "      <td>cuda:0</td>\n",
              "      <td>2.0</td>\n",
              "      <td>16.0</td>\n",
              "      <td>(5, 20)</td>\n",
              "      <td>sheila</td>\n",
              "      <td>0.0003</td>\n",
              "      <td>40.0</td>\n",
              "      <td>2.0</td>\n",
              "      <td>50.0</td>\n",
              "      <td>16000.0</td>\n",
              "      <td>(2, 8)</td>\n",
              "      <td>0.00001</td>\n",
              "    </tr>\n",
              "    <tr>\n",
              "      <th>2</th>\n",
              "      <td>DQ_int8</td>\n",
              "      <td>159984.0</td>\n",
              "      <td>0.088321</td>\n",
              "      <td>808.0</td>\n",
              "      <td>0.000014</td>\n",
              "      <td>128.0</td>\n",
              "      <td>False</td>\n",
              "      <td>8.0</td>\n",
              "      <td>cpu</td>\n",
              "      <td>2.0</td>\n",
              "      <td>64.0</td>\n",
              "      <td>(5, 20)</td>\n",
              "      <td>sheila</td>\n",
              "      <td>0.0003</td>\n",
              "      <td>40.0</td>\n",
              "      <td>2.0</td>\n",
              "      <td>20.0</td>\n",
              "      <td>16000.0</td>\n",
              "      <td>(2, 8)</td>\n",
              "      <td>0.00001</td>\n",
              "    </tr>\n",
              "    <tr>\n",
              "      <th>3</th>\n",
              "      <td>Base_5e-5</td>\n",
              "      <td>1867616.0</td>\n",
              "      <td>0.276444</td>\n",
              "      <td>70443.0</td>\n",
              "      <td>0.000040</td>\n",
              "      <td>128.0</td>\n",
              "      <td>False</td>\n",
              "      <td>8.0</td>\n",
              "      <td>cpu</td>\n",
              "      <td>2.0</td>\n",
              "      <td>64.0</td>\n",
              "      <td>(5, 20)</td>\n",
              "      <td>sheila</td>\n",
              "      <td>0.0003</td>\n",
              "      <td>40.0</td>\n",
              "      <td>2.0</td>\n",
              "      <td>20.0</td>\n",
              "      <td>16000.0</td>\n",
              "      <td>(2, 8)</td>\n",
              "      <td>0.00001</td>\n",
              "    </tr>\n",
              "    <tr>\n",
              "      <th>4</th>\n",
              "      <td>DQ_int8_</td>\n",
              "      <td>159984.0</td>\n",
              "      <td>0.078708</td>\n",
              "      <td>808.0</td>\n",
              "      <td>0.000039</td>\n",
              "      <td>128.0</td>\n",
              "      <td>False</td>\n",
              "      <td>8.0</td>\n",
              "      <td>cpu</td>\n",
              "      <td>2.0</td>\n",
              "      <td>64.0</td>\n",
              "      <td>(5, 20)</td>\n",
              "      <td>sheila</td>\n",
              "      <td>0.0003</td>\n",
              "      <td>40.0</td>\n",
              "      <td>2.0</td>\n",
              "      <td>20.0</td>\n",
              "      <td>16000.0</td>\n",
              "      <td>(2, 8)</td>\n",
              "      <td>0.00001</td>\n",
              "    </tr>\n",
              "    <tr>\n",
              "      <th>5</th>\n",
              "      <td>Dark Knowledge Distillation_</td>\n",
              "      <td>150952.0</td>\n",
              "      <td>0.029775</td>\n",
              "      <td>6679.0</td>\n",
              "      <td>0.000052</td>\n",
              "      <td>128.0</td>\n",
              "      <td>False</td>\n",
              "      <td>8.0</td>\n",
              "      <td>cpu</td>\n",
              "      <td>2.0</td>\n",
              "      <td>64.0</td>\n",
              "      <td>(5, 20)</td>\n",
              "      <td>sheila</td>\n",
              "      <td>0.0003</td>\n",
              "      <td>40.0</td>\n",
              "      <td>2.0</td>\n",
              "      <td>20.0</td>\n",
              "      <td>16000.0</td>\n",
              "      <td>(2, 8)</td>\n",
              "      <td>0.00001</td>\n",
              "    </tr>\n",
              "    <tr>\n",
              "      <th>6</th>\n",
              "      <td>DKDistillation + dqint8</td>\n",
              "      <td>79992.0</td>\n",
              "      <td>0.014926</td>\n",
              "      <td>404.0</td>\n",
              "      <td>0.000053</td>\n",
              "      <td>128.0</td>\n",
              "      <td>False</td>\n",
              "      <td>4.0</td>\n",
              "      <td>cpu</td>\n",
              "      <td>2.0</td>\n",
              "      <td>16.0</td>\n",
              "      <td>(5, 20)</td>\n",
              "      <td>sheila</td>\n",
              "      <td>0.0003</td>\n",
              "      <td>40.0</td>\n",
              "      <td>2.0</td>\n",
              "      <td>20.0</td>\n",
              "      <td>16000.0</td>\n",
              "      <td>(2, 8)</td>\n",
              "      <td>0.00001</td>\n",
              "    </tr>\n",
              "    <tr>\n",
              "      <th>7</th>\n",
              "      <td>DKD_16_8</td>\n",
              "      <td>268960.0</td>\n",
              "      <td>0.044484</td>\n",
              "      <td>10539.0</td>\n",
              "      <td>0.000054</td>\n",
              "      <td>128.0</td>\n",
              "      <td>False</td>\n",
              "      <td>8.0</td>\n",
              "      <td>cpu</td>\n",
              "      <td>2.0</td>\n",
              "      <td>16.0</td>\n",
              "      <td>(5, 20)</td>\n",
              "      <td>sheila</td>\n",
              "      <td>0.0003</td>\n",
              "      <td>40.0</td>\n",
              "      <td>2.0</td>\n",
              "      <td>50.0</td>\n",
              "      <td>16000.0</td>\n",
              "      <td>(2, 8)</td>\n",
              "      <td>0.00001</td>\n",
              "    </tr>\n",
              "    <tr>\n",
              "      <th>8</th>\n",
              "      <td>DKD_32_8</td>\n",
              "      <td>434256.0</td>\n",
              "      <td>0.101125</td>\n",
              "      <td>25387.0</td>\n",
              "      <td>0.000053</td>\n",
              "      <td>128.0</td>\n",
              "      <td>False</td>\n",
              "      <td>8.0</td>\n",
              "      <td>cpu</td>\n",
              "      <td>2.0</td>\n",
              "      <td>32.0</td>\n",
              "      <td>(5, 20)</td>\n",
              "      <td>sheila</td>\n",
              "      <td>0.0003</td>\n",
              "      <td>40.0</td>\n",
              "      <td>2.0</td>\n",
              "      <td>50.0</td>\n",
              "      <td>16000.0</td>\n",
              "      <td>(2, 8)</td>\n",
              "      <td>0.00001</td>\n",
              "    </tr>\n",
              "  </tbody>\n",
              "</table>\n",
              "</div>"
            ],
            "text/plain": [
              "                        SETTING       MACS  ...  stride  weight_decay\n",
              "0                    Base model   933808.0  ...  (2, 8)       0.00001\n",
              "1   Dark Knowledge Distillation   150952.0  ...  (2, 8)       0.00001\n",
              "2                       DQ_int8   159984.0  ...  (2, 8)       0.00001\n",
              "3                     Base_5e-5  1867616.0  ...  (2, 8)       0.00001\n",
              "4                      DQ_int8_   159984.0  ...  (2, 8)       0.00001\n",
              "5  Dark Knowledge Distillation_   150952.0  ...  (2, 8)       0.00001\n",
              "6       DKDistillation + dqint8    79992.0  ...  (2, 8)       0.00001\n",
              "7                      DKD_16_8   268960.0  ...  (2, 8)       0.00001\n",
              "8                      DKD_32_8   434256.0  ...  (2, 8)       0.00001\n",
              "\n",
              "[9 rows x 20 columns]"
            ]
          },
          "metadata": {},
          "execution_count": 87
        }
      ]
    },
    {
      "cell_type": "markdown",
      "metadata": {
        "id": "VoZ-MBBEqpjO"
      },
      "source": [
        "## 4. hidden=32, out=4"
      ]
    },
    {
      "cell_type": "code",
      "metadata": {
        "colab": {
          "base_uri": "https://localhost:8080/"
        },
        "id": "MEqn_YHfqpjP",
        "outputId": "f8a59b4b-4079-4319-d9e8-b578cef1747a"
      },
      "source": [
        "student_config_32_4 = TaskConfig\n",
        "student_config_32_4.hidden_size = 32\n",
        "student_config_32_4.cnn_out_channels = 4\n",
        "student_config_32_4.num_epochs = 50\n",
        "\n",
        "student_model_32_4 = CRNN(student_config_32_4).to(student_config_32_4.device)\n",
        "student_opt_32_4 = torch.optim.Adam(\n",
        "    student_model_32_4.parameters(),\n",
        "    lr=student_config.learning_rate,\n",
        "    weight_decay=student_config.weight_decay\n",
        ")\n",
        "print('Number of params %d' % count_parameters(student_model_32_4))\n",
        "student_model_32_4"
      ],
      "execution_count": null,
      "outputs": [
        {
          "output_type": "stream",
          "name": "stdout",
          "text": [
            "Number of params 18071\n"
          ]
        },
        {
          "output_type": "execute_result",
          "data": {
            "text/plain": [
              "CRNN(\n",
              "  (conv): Sequential(\n",
              "    (0): Conv2d(1, 4, kernel_size=(5, 20), stride=(2, 8))\n",
              "    (1): Flatten(start_dim=1, end_dim=2)\n",
              "  )\n",
              "  (gru): GRU(72, 32, num_layers=2, batch_first=True, dropout=0.1)\n",
              "  (attention): Attention(\n",
              "    (energy): Sequential(\n",
              "      (0): Linear(in_features=32, out_features=32, bias=True)\n",
              "      (1): Tanh()\n",
              "      (2): Linear(in_features=32, out_features=1, bias=True)\n",
              "    )\n",
              "  )\n",
              "  (classifier): Linear(in_features=32, out_features=2, bias=True)\n",
              ")"
            ]
          },
          "metadata": {},
          "execution_count": 88
        }
      ]
    },
    {
      "cell_type": "code",
      "metadata": {
        "colab": {
          "base_uri": "https://localhost:8080/",
          "height": 297
        },
        "id": "pV0JmWv2qpjQ",
        "outputId": "cbde4fa9-22ca-45a3-9559-9b35d7a5bc4f"
      },
      "source": [
        "res_distill_32_4 = train_w_teacher(student_model_32_4, model, student_config_32_4, student_opt_32_4, \n",
        "                (train_loader, val_loader), (melspec_train, melspec_val))"
      ],
      "execution_count": null,
      "outputs": [
        {
          "output_type": "display_data",
          "data": {
            "image/png": "[encoded data removed]",
            "text/plain": [
              "<Figure size 432x288 with 1 Axes>"
            ]
          },
          "metadata": {
            "needs_background": "light"
          }
        },
        {
          "output_type": "stream",
          "name": "stdout",
          "text": [
            "END OF EPOCH 13 / 50\n"
          ]
        }
      ]
    },
    {
      "cell_type": "code",
      "metadata": {
        "colab": {
          "base_uri": "https://localhost:8080/"
        },
        "id": "BGfIng4RqpjQ",
        "outputId": "6f1a2fcf-84cf-46e6-96d4-a36c1c5b4d10"
      },
      "source": [
        "res_distill_32_4"
      ],
      "execution_count": null,
      "outputs": [
        {
          "output_type": "execute_result",
          "data": {
            "text/plain": [
              "defaultdict(list,\n",
              "            {'val_metric': [0.0012942238167509357,\n",
              "              0.000535265147836294,\n",
              "              0.00032998747859328795,\n",
              "              0.00019825088196623528,\n",
              "              0.00017239051452344433,\n",
              "              0.0001377906736481006,\n",
              "              0.0001147261022470651,\n",
              "              9.541213450076465e-05,\n",
              "              8.344421782682505e-05,\n",
              "              7.538802859231072e-05,\n",
              "              6.495675542050995e-05,\n",
              "              6.733780690537751e-05,\n",
              "              5.9263715028119834e-05,\n",
              "              5.493127548422546e-05]})"
            ]
          },
          "metadata": {},
          "execution_count": 90
        }
      ]
    },
    {
      "cell_type": "code",
      "metadata": {
        "id": "ogfB8ckTqpjR"
      },
      "source": [
        "torch.save(student_model_32_4.state_dict(), 'student_model_32_4.pt')"
      ],
      "execution_count": null,
      "outputs": []
    },
    {
      "cell_type": "code",
      "metadata": {
        "colab": {
          "base_uri": "https://localhost:8080/"
        },
        "id": "XHe98413qpjR",
        "outputId": "b2c1db81-9d57-4a33-ba99-e5567344cd6e"
      },
      "source": [
        "student_32_4_mb_sz = print_size_of_model(student_model_32_4, 'Distilled, cnn_out=4, hidden_sz=32') / (2 ** (20))\n",
        "student_32_4_macs, student_32_4_n_params = profile(CRNN(student_config_32_4), (torch.randn(1, 40, 101),))"
      ],
      "execution_count": null,
      "outputs": [
        {
          "output_type": "stream",
          "name": "stdout",
          "text": [
            "model:  Distilled, cnn_out=4, hidden_sz=32  \t Size (KB): 74.9892578125\n",
            "[INFO] Register count_convNd() for <class 'torch.nn.modules.conv.Conv2d'>.\n",
            "\u001b[91m[WARN] Cannot find rule for <class 'torch.nn.modules.flatten.Flatten'>. Treat it as zero Macs and zero Params.\u001b[00m\n",
            "\u001b[91m[WARN] Cannot find rule for <class 'torch.nn.modules.container.Sequential'>. Treat it as zero Macs and zero Params.\u001b[00m\n",
            "[INFO] Register count_gru() for <class 'torch.nn.modules.rnn.GRU'>.\n",
            "[INFO] Register count_linear() for <class 'torch.nn.modules.linear.Linear'>.\n",
            "\u001b[91m[WARN] Cannot find rule for <class 'torch.nn.modules.activation.Tanh'>. Treat it as zero Macs and zero Params.\u001b[00m\n",
            "\u001b[91m[WARN] Cannot find rule for <class '__main__.Attention'>. Treat it as zero Macs and zero Params.\u001b[00m\n",
            "\u001b[91m[WARN] Cannot find rule for <class '__main__.CRNN'>. Treat it as zero Macs and zero Params.\u001b[00m\n"
          ]
        }
      ]
    },
    {
      "cell_type": "code",
      "metadata": {
        "id": "tXPwMwgzIEfS"
      },
      "source": [
        "# np.save('/content/drive/MyDrive/Colab Notebooks/DLA/KWS/history/dkd_hist_%d_%d.npy' % (16, 4), res_distill['val_metric'])\n",
        "# np.save('/content/drive/MyDrive/Colab Notebooks/DLA/KWS/history/dkd_hist_%d_%d.npy' % (16, 8), res_distill_16_8['val_metric'])\n",
        "# np.save('/content/drive/MyDrive/Colab Notebooks/DLA/KWS/history/dkd_hist_%d_%d.npy' % (32, 4), res_distill_32_4['val_metric'])\n",
        "# np.save('/content/drive/MyDrive/Colab Notebooks/DLA/KWS/history/dkd_hist_%d_%d.npy' % (32, 8), res_distill_32_8['val_metric'])"
      ],
      "execution_count": null,
      "outputs": []
    },
    {
      "cell_type": "code",
      "metadata": {
        "id": "0H9Lg0WdqpjR"
      },
      "source": [
        "table_ = pd.DataFrame(columns=table.columns)\n",
        "table_= table_.append(\n",
        "    {\n",
        "        **{\n",
        "            'SETTING': 'DKD_32_4',\n",
        "            'MACS': student_32_4_macs, 'MB_SZ': student_32_4_mb_sz, 'N_PARAMS': student_32_4_n_params, \n",
        "            'METRIC': res_distill_32_4['val_metric'][-1]\n",
        "        },\n",
        "        **config_to_dict(student_config_32_4) \n",
        "    },\n",
        "    ignore_index=True\n",
        ")\n",
        "table_.to_csv('/content/drive/MyDrive/Colab Notebooks/DLA/KWS/kws_experiments.csv', mode='a', header=False, index=False)"
      ],
      "execution_count": null,
      "outputs": []
    },
    {
      "cell_type": "code",
      "metadata": {
        "id": "JuIaSSxsqpjS"
      },
      "source": [
        "table = pd.read_csv('/content/drive/MyDrive/Colab Notebooks/DLA/KWS/kws_experiments.csv')"
      ],
      "execution_count": null,
      "outputs": []
    },
    {
      "cell_type": "code",
      "metadata": {
        "colab": {
          "base_uri": "https://localhost:8080/",
          "height": 226
        },
        "id": "uEoRC4dOyKeA",
        "outputId": "cd263b6e-8869-4a48-e6ae-5af7e1b84d78"
      },
      "source": [
        "dkd = table.iloc[[3,5,7,8,9]]\n",
        "dkd.sort_values(by=['cnn_out_channels', 'hidden_size'])"
      ],
      "execution_count": null,
      "outputs": [
        {
          "output_type": "execute_result",
          "data": {
            "text/html": [
              "<div>\n",
              "<style scoped>\n",
              "    .dataframe tbody tr th:only-of-type {\n",
              "        vertical-align: middle;\n",
              "    }\n",
              "\n",
              "    .dataframe tbody tr th {\n",
              "        vertical-align: top;\n",
              "    }\n",
              "\n",
              "    .dataframe thead th {\n",
              "        text-align: right;\n",
              "    }\n",
              "</style>\n",
              "<table border=\"1\" class=\"dataframe\">\n",
              "  <thead>\n",
              "    <tr style=\"text-align: right;\">\n",
              "      <th></th>\n",
              "      <th>SETTING</th>\n",
              "      <th>MACS</th>\n",
              "      <th>MB_SZ</th>\n",
              "      <th>N_PARAMS</th>\n",
              "      <th>METRIC</th>\n",
              "      <th>batch_size</th>\n",
              "      <th>bidirectional</th>\n",
              "      <th>cnn_out_channels</th>\n",
              "      <th>device</th>\n",
              "      <th>gru_num_layers</th>\n",
              "      <th>hidden_size</th>\n",
              "      <th>kernel_size</th>\n",
              "      <th>keyword</th>\n",
              "      <th>learning_rate</th>\n",
              "      <th>n_mels</th>\n",
              "      <th>num_classes</th>\n",
              "      <th>num_epochs</th>\n",
              "      <th>sample_rate</th>\n",
              "      <th>stride</th>\n",
              "      <th>weight_decay</th>\n",
              "    </tr>\n",
              "  </thead>\n",
              "  <tbody>\n",
              "    <tr>\n",
              "      <th>5</th>\n",
              "      <td>DKD_16_4</td>\n",
              "      <td>150952.0</td>\n",
              "      <td>0.029775</td>\n",
              "      <td>6679.0</td>\n",
              "      <td>0.000052</td>\n",
              "      <td>128.0</td>\n",
              "      <td>False</td>\n",
              "      <td>4.0</td>\n",
              "      <td>cpu</td>\n",
              "      <td>2.0</td>\n",
              "      <td>16.0</td>\n",
              "      <td>(5, 20)</td>\n",
              "      <td>sheila</td>\n",
              "      <td>0.0003</td>\n",
              "      <td>40.0</td>\n",
              "      <td>2.0</td>\n",
              "      <td>20.0</td>\n",
              "      <td>16000.0</td>\n",
              "      <td>(2, 8)</td>\n",
              "      <td>0.00001</td>\n",
              "    </tr>\n",
              "    <tr>\n",
              "      <th>9</th>\n",
              "      <td>DKD_32_4</td>\n",
              "      <td>278232.0</td>\n",
              "      <td>0.073232</td>\n",
              "      <td>18071.0</td>\n",
              "      <td>0.000055</td>\n",
              "      <td>128.0</td>\n",
              "      <td>False</td>\n",
              "      <td>4.0</td>\n",
              "      <td>cpu</td>\n",
              "      <td>2.0</td>\n",
              "      <td>32.0</td>\n",
              "      <td>(5, 20)</td>\n",
              "      <td>sheila</td>\n",
              "      <td>0.0003</td>\n",
              "      <td>40.0</td>\n",
              "      <td>2.0</td>\n",
              "      <td>50.0</td>\n",
              "      <td>16000.0</td>\n",
              "      <td>(2, 8)</td>\n",
              "      <td>0.00001</td>\n",
              "    </tr>\n",
              "    <tr>\n",
              "      <th>7</th>\n",
              "      <td>DKD_16_8</td>\n",
              "      <td>268960.0</td>\n",
              "      <td>0.044484</td>\n",
              "      <td>10539.0</td>\n",
              "      <td>0.000054</td>\n",
              "      <td>128.0</td>\n",
              "      <td>False</td>\n",
              "      <td>8.0</td>\n",
              "      <td>cpu</td>\n",
              "      <td>2.0</td>\n",
              "      <td>16.0</td>\n",
              "      <td>(5, 20)</td>\n",
              "      <td>sheila</td>\n",
              "      <td>0.0003</td>\n",
              "      <td>40.0</td>\n",
              "      <td>2.0</td>\n",
              "      <td>50.0</td>\n",
              "      <td>16000.0</td>\n",
              "      <td>(2, 8)</td>\n",
              "      <td>0.00001</td>\n",
              "    </tr>\n",
              "    <tr>\n",
              "      <th>8</th>\n",
              "      <td>DKD_32_8</td>\n",
              "      <td>434256.0</td>\n",
              "      <td>0.101125</td>\n",
              "      <td>25387.0</td>\n",
              "      <td>0.000053</td>\n",
              "      <td>128.0</td>\n",
              "      <td>False</td>\n",
              "      <td>8.0</td>\n",
              "      <td>cpu</td>\n",
              "      <td>2.0</td>\n",
              "      <td>32.0</td>\n",
              "      <td>(5, 20)</td>\n",
              "      <td>sheila</td>\n",
              "      <td>0.0003</td>\n",
              "      <td>40.0</td>\n",
              "      <td>2.0</td>\n",
              "      <td>50.0</td>\n",
              "      <td>16000.0</td>\n",
              "      <td>(2, 8)</td>\n",
              "      <td>0.00001</td>\n",
              "    </tr>\n",
              "    <tr>\n",
              "      <th>3</th>\n",
              "      <td>Base_5e-5</td>\n",
              "      <td>1867616.0</td>\n",
              "      <td>0.276444</td>\n",
              "      <td>70443.0</td>\n",
              "      <td>0.000040</td>\n",
              "      <td>128.0</td>\n",
              "      <td>False</td>\n",
              "      <td>8.0</td>\n",
              "      <td>cpu</td>\n",
              "      <td>2.0</td>\n",
              "      <td>64.0</td>\n",
              "      <td>(5, 20)</td>\n",
              "      <td>sheila</td>\n",
              "      <td>0.0003</td>\n",
              "      <td>40.0</td>\n",
              "      <td>2.0</td>\n",
              "      <td>20.0</td>\n",
              "      <td>16000.0</td>\n",
              "      <td>(2, 8)</td>\n",
              "      <td>0.00001</td>\n",
              "    </tr>\n",
              "  </tbody>\n",
              "</table>\n",
              "</div>"
            ],
            "text/plain": [
              "     SETTING       MACS     MB_SZ  ...  sample_rate  stride  weight_decay\n",
              "5   DKD_16_4   150952.0  0.029775  ...      16000.0  (2, 8)       0.00001\n",
              "9   DKD_32_4   278232.0  0.073232  ...      16000.0  (2, 8)       0.00001\n",
              "7   DKD_16_8   268960.0  0.044484  ...      16000.0  (2, 8)       0.00001\n",
              "8   DKD_32_8   434256.0  0.101125  ...      16000.0  (2, 8)       0.00001\n",
              "3  Base_5e-5  1867616.0  0.276444  ...      16000.0  (2, 8)       0.00001\n",
              "\n",
              "[5 rows x 20 columns]"
            ]
          },
          "metadata": {},
          "execution_count": 35
        }
      ]
    },
    {
      "cell_type": "code",
      "metadata": {
        "colab": {
          "base_uri": "https://localhost:8080/",
          "height": 291
        },
        "id": "fl9eL64zxrpu",
        "outputId": "6995a102-b31f-4e13-8f7e-16673ce764b5"
      },
      "source": [
        "import seaborn as sns\n",
        "sns.set_style('whitegrid')\n",
        "sns.scatterplot(x=dkd['MB_SZ'], y=dkd['MACS'], hue=dkd['SETTING'])\n",
        "plt.show()"
      ],
      "execution_count": null,
      "outputs": [
        {
          "output_type": "display_data",
          "data": {
            "image/png": "[encoded data removed]",
            "text/plain": [
              "<Figure size 432x288 with 1 Axes>"
            ]
          },
          "metadata": {}
        }
      ]
    },
    {
      "cell_type": "code",
      "metadata": {
        "id": "QRk0oxG7yejf"
      },
      "source": [
        "def dkdistill(\n",
        "    teacher, student, opt, config, loaders, log_melspecs, \n",
        "    val_hist_path=None, model_path=None, table_path=None\n",
        "    ):\n",
        "    hist = train_w_teacher(student, teacher, config, opt, loaders, log_melspecs, model_path=model_path, history_path=val_hist_path)\n",
        "    if val_hist_path:\n",
        "        np.save(val_hist_path, hist['val_metric'])\n",
        "    if model_path:\n",
        "        torch.save(student.state_dict(), model_path)    \n",
        "    student_mb_sz = print_size_of_model(student, 'Distilled model') / (2 ** (20))\n",
        "    student_macs, student_n_params = profile(CRNN(config), (torch.randn(1, 40, 101),))\n",
        "    table_ = pd.DataFrame(\n",
        "        columns=[\n",
        "            'SETTING', 'MACS', 'MB_SZ', 'N_PARAMS', 'METRIC', 'batch_size',\n",
        "            'bidirectional', 'cnn_out_channels', 'device', 'gru_num_layers',\n",
        "            'hidden_size', 'kernel_size', 'keyword', 'learning_rate', 'n_mels',\n",
        "            'num_classes', 'num_epochs', 'sample_rate', 'stride', 'weight_decay'\n",
        "        ]\n",
        "    )\n",
        "    table_= table_.append(\n",
        "        {\n",
        "            **{\n",
        "                'SETTING': 'DKD_%d_%d' % (config.hidden_size, config.cnn_out_channels),\n",
        "                'MACS': student_macs, 'MB_SZ': student_mb_sz, 'N_PARAMS': student_n_params, \n",
        "                'METRIC': hist['val_metric'][-1]\n",
        "            },\n",
        "            **config_to_dict(config) \n",
        "        },\n",
        "        ignore_index=True\n",
        "    )\n",
        "    if table_path:\n",
        "        table_.to_csv(table_path, mode='a', header=False, index=False)\n",
        "    return hist, table_"
      ],
      "execution_count": null,
      "outputs": []
    },
    {
      "cell_type": "code",
      "metadata": {
        "colab": {
          "base_uri": "https://localhost:8080/"
        },
        "id": "4UoUz4byDkeY",
        "outputId": "9909956d-b453-44d8-f13e-df1ee7880f46"
      },
      "source": [
        "config_128_4 = TaskConfig\n",
        "config_128_4.hidden_size = 64\n",
        "config_128_4.cnn_out_channels = 4\n",
        "count_parameters(CRNN(config_128_4))"
      ],
      "execution_count": null,
      "outputs": [
        {
          "output_type": "execute_result",
          "data": {
            "text/plain": [
              "56215"
            ]
          },
          "metadata": {},
          "execution_count": 145
        }
      ]
    },
    {
      "cell_type": "markdown",
      "metadata": {
        "id": "p_cCzWpwzvgL"
      },
      "source": [
        "## Other params"
      ]
    },
    {
      "cell_type": "code",
      "metadata": {
        "colab": {
          "base_uri": "https://localhost:8080/"
        },
        "id": "OBm-W_JzxjOw",
        "outputId": "28804fe2-2b3c-4877-e871-8fefcd8ab690"
      },
      "source": [
        "model.to(student_config.device)"
      ],
      "execution_count": null,
      "outputs": [
        {
          "output_type": "execute_result",
          "data": {
            "text/plain": [
              "CRNN(\n",
              "  (conv): Sequential(\n",
              "    (0): Conv2d(1, 8, kernel_size=(5, 20), stride=(2, 8))\n",
              "    (1): Flatten(start_dim=1, end_dim=2)\n",
              "  )\n",
              "  (gru): GRU(144, 64, num_layers=2, batch_first=True, dropout=0.1)\n",
              "  (attention): Attention(\n",
              "    (energy): Sequential(\n",
              "      (0): Linear(in_features=64, out_features=64, bias=True)\n",
              "      (1): Tanh()\n",
              "      (2): Linear(in_features=64, out_features=1, bias=True)\n",
              "    )\n",
              "  )\n",
              "  (classifier): Linear(in_features=64, out_features=2, bias=True)\n",
              ")"
            ]
          },
          "metadata": {},
          "execution_count": 40
        }
      ]
    },
    {
      "cell_type": "code",
      "metadata": {
        "colab": {
          "base_uri": "https://localhost:8080/",
          "height": 453
        },
        "id": "uZunCCmgAxH3",
        "outputId": "0ea6c62f-644b-4e75-924f-b232a5ce9a67"
      },
      "source": [
        "from itertools import product\n",
        "results = []\n",
        "for (h,c) in product([8,16,32,64], [4,8,16]):\n",
        "    if ((h,c) == (32,8)) or ((h,c)==(32,4)) or ((h,c)==(16,4)) or ((h,c)==(16,8)) or ((h,c)==(8,4)):\n",
        "        continue\n",
        "    student_config = TaskConfig\n",
        "    student_config.hidden_size = h\n",
        "    student_config.cnn_out_channels = c\n",
        "    student_config.num_epochs = 50\n",
        "\n",
        "    student_model = CRNN(student_config).to(student_config.device)\n",
        "    if count_parameters(model) <= count_parameters(student_model):\n",
        "        continue\n",
        "    student_opt = torch.optim.Adam(\n",
        "        student_model.parameters(),\n",
        "        lr=student_config.learning_rate,\n",
        "        weight_decay=student_config.weight_decay\n",
        "    )\n",
        "    print('Number of params %d' % count_parameters(student_model))\n",
        "    print(student_model)\n",
        "    res = dkdistill(\n",
        "        model, student_model, student_opt, student_config, \n",
        "        (train_loader, val_loader), (melspec_train, melspec_val),\n",
        "        val_hist_path='/content/drive/MyDrive/Colab Notebooks/DLA/KWS/history/dkd_hist_%d_%d.npy' % (h, c),\n",
        "        model_path='/content/drive/MyDrive/Colab Notebooks/DLA/KWS/student_models/student_model_%d_%d.pt' % (h, c),\n",
        "        table_path='/content/drive/MyDrive/Colab Notebooks/DLA/KWS/kws_experiments.csv')\n",
        "    results.append(res)"
      ],
      "execution_count": null,
      "outputs": [
        {
          "output_type": "display_data",
          "data": {
            "image/png": "[encoded data removed]",
            "text/plain": [
              "<Figure size 432x288 with 1 Axes>"
            ]
          },
          "metadata": {}
        },
        {
          "output_type": "stream",
          "name": "stdout",
          "text": [
            "END OF EPOCH 7 / 50\n",
            "model:  Distilled model  \t Size (KB): 222.9482421875\n",
            "[INFO] Register count_convNd() for <class 'torch.nn.modules.conv.Conv2d'>.\n",
            "\u001b[91m[WARN] Cannot find rule for <class 'torch.nn.modules.flatten.Flatten'>. Treat it as zero Macs and zero Params.\u001b[00m\n",
            "\u001b[91m[WARN] Cannot find rule for <class 'torch.nn.modules.container.Sequential'>. Treat it as zero Macs and zero Params.\u001b[00m\n",
            "[INFO] Register count_gru() for <class 'torch.nn.modules.rnn.GRU'>.\n",
            "[INFO] Register count_linear() for <class 'torch.nn.modules.linear.Linear'>.\n",
            "\u001b[91m[WARN] Cannot find rule for <class 'torch.nn.modules.activation.Tanh'>. Treat it as zero Macs and zero Params.\u001b[00m\n",
            "\u001b[91m[WARN] Cannot find rule for <class '__main__.Attention'>. Treat it as zero Macs and zero Params.\u001b[00m\n",
            "\u001b[91m[WARN] Cannot find rule for <class '__main__.CRNN'>. Treat it as zero Macs and zero Params.\u001b[00m\n"
          ]
        }
      ]
    },
    {
      "cell_type": "code",
      "metadata": {
        "id": "gjc0sVKD4haK"
      },
      "source": [
        "import numpy as np\n",
        "from itertools import product\n",
        "results = {}\n",
        "for (h,c) in product([8,16,32,64], [4,8,16]):\n",
        "    try:\n",
        "        arr = np.load('/content/drive/MyDrive/Colab Notebooks/DLA/KWS/history/dkd_hist_%d_%d.npy' % (h, c))\n",
        "        results[(h, c)] = arr\n",
        "    except:\n",
        "        continue"
      ],
      "execution_count": null,
      "outputs": []
    },
    {
      "cell_type": "code",
      "metadata": {
        "id": "xOMHAUiH5qiD"
      },
      "source": [
        "np.save('/content/drive/MyDrive/Colab Notebooks/DLA/KWS/history/base_hist.npy', [0.00019510300061719357,\n",
        "              0.0001468613459714056,\n",
        "              8.860614648449535e-05,\n",
        "              8.163605090974517e-05,\n",
        "              6.128074611053898e-05,\n",
        "              5.2138463216260496e-05,\n",
        "              3.994079596044769e-05])"
      ],
      "execution_count": null,
      "outputs": []
    },
    {
      "cell_type": "code",
      "metadata": {
        "id": "B7Hz3eFr55_T"
      },
      "source": [
        "base_hist = np.load('/content/drive/MyDrive/Colab Notebooks/DLA/KWS/history/base_hist.npy')"
      ],
      "execution_count": null,
      "outputs": []
    },
    {
      "cell_type": "code",
      "metadata": {
        "colab": {
          "base_uri": "https://localhost:8080/",
          "height": 835
        },
        "id": "PPlkdwRy5-fb",
        "outputId": "18d95599-e7d4-4e1f-ccdf-203d8b3017fe"
      },
      "source": [
        "import matplotlib.pyplot as plt\n",
        "import seaborn as sns\n",
        "sns.set_style('whitegrid')\n",
        "fig, axs = plt.subplots(3, 4, figsize=(20, 15), sharex=True)\n",
        "for (c,h), ax in zip(product([4,8,16], [8,16,32,64]), axs.reshape(-1)):\n",
        "    if (h == 64) and ((c == 8) or (c == 16)): continue\n",
        "    arr = results[(h, c)]\n",
        "    sns.lineplot(x=range(len(arr)), y=arr, ax=ax)\n",
        "    ax.set_title('hidden_size=%d, cnn_out_channels=%d' % (h, c))\n",
        "axs[1][-1].set_title('base model\\nhidden_size=%d, cnn_out_channels=%d' % (64, 8))\n",
        "sns.lineplot(x=range(len(base_hist)),y=base_hist,ax=axs[1][-1])\n",
        "plt.show()"
      ],
      "execution_count": null,
      "outputs": [
        {
          "output_type": "display_data",
          "data": {
            "image/png": "[encoded data removed]",
            "text/plain": [
              "<Figure size 1440x1080 with 12 Axes>"
            ]
          },
          "metadata": {}
        }
      ]
    },
    {
      "cell_type": "code",
      "metadata": {
        "id": "g0LVCDsC8qXk"
      },
      "source": [
        "import plotly"
      ],
      "execution_count": null,
      "outputs": []
    },
    {
      "cell_type": "code",
      "metadata": {
        "colab": {
          "base_uri": "https://localhost:8080/",
          "height": 265
        },
        "id": "9lcWlM8c730j",
        "outputId": "1f4bcaca-8366-4539-e0ba-a4aad9381bbd"
      },
      "source": [
        "sns.lineplot(x=range(len(base_hist)),y=base_hist,label='BASE MODEL')\n",
        "for (c,h)in product([4,8,16], [8,16,32,64]):\n",
        "    if (h == 64) and ((c == 8) or (c == 16)): continue\n",
        "    arr = results[(h, c)]\n",
        "    sns.lineplot(x=range(len(arr)), y=arr, label='hid_sz=%d, cnn_out=%d' % (h, c), markers='--')\n",
        "plt.legend()\n",
        "plt.show()"
      ],
      "execution_count": null,
      "outputs": [
        {
          "output_type": "display_data",
          "data": {
            "image/png": "[encoded data removed]",
            "text/plain": [
              "<Figure size 432x288 with 1 Axes>"
            ]
          },
          "metadata": {}
        }
      ]
    },
    {
      "cell_type": "code",
      "metadata": {
        "colab": {
          "base_uri": "https://localhost:8080/",
          "height": 542
        },
        "id": "aG956BciAjfk",
        "outputId": "9329bf50-f019-4279-a283-cd2c7c46582f"
      },
      "source": [
        "import plotly.express as px\n",
        "import plotly.graph_objects as go\n",
        "\n",
        "fig = go.Figure()\n",
        "fig.add_trace(go.Scatter(x=np.arange(len(base_hist)), y=base_hist,\n",
        "                    mode='lines', line=dict(color='black'),\n",
        "                    name='BASE MODEL'))\n",
        "for (h, c)in product([8,16,32,64], [4,8,16]):\n",
        "    if (h == 64) and ((c == 8) or (c == 16)): continue\n",
        "    arr = results[(h, c)]\n",
        "\n",
        "    fig.add_trace(\n",
        "        go.Scatter(\n",
        "            x=np.arange(len(arr)), y=arr,\n",
        "            mode='lines', line=dict(dash='dash'),\n",
        "            name='hid_sz=%d, cnn_out=%d' % (h, c)\n",
        "        )\n",
        "    )\n",
        "\n",
        "fig.update_layout(title='FA_FR on validation',\n",
        "                   xaxis_title='epochs',\n",
        "                   yaxis_title='FA_FR')\n",
        "\n",
        "fig.show()"
      ],
      "execution_count": 36,
      "outputs": [
        {
          "output_type": "display_data",
          "data": {
            "text/html": [
              "<html>\n",
              "<head><meta charset=\"utf-8\" /></head>\n",
              "<body>\n",
              "    <div>\n",
              "            <script src=\"https://cdnjs.cloudflare.com/ajax/libs/mathjax/2.7.5/MathJax.js?config=TeX-AMS-MML_SVG\"></script><script type=\"text/javascript\">if (window.MathJax) {MathJax.Hub.Config({SVG: {font: \"STIX-Web\"}});}</script>\n",
              "                <script type=\"text/javascript\">window.PlotlyConfig = {MathJaxConfig: 'local'};</script>\n",
              "        <script src=\"https://cdn.plot.ly/plotly-latest.min.js\"></script>    \n",
              "            <div id=\"2db74af6-6675-48e3-8d95-ec8c502d3873\" class=\"plotly-graph-div\" style=\"height:525px; width:100%;\"></div>\n",
              "            <script type=\"text/javascript\">\n",
              "                \n",
              "                    window.PLOTLYENV=window.PLOTLYENV || {};\n",
              "                    \n",
              "                if (document.getElementById(\"2db74af6-6675-48e3-8d95-ec8c502d3873\")) {\n",
              "                    Plotly.newPlot(\n",
              "                        '2db74af6-6675-48e3-8d95-ec8c502d3873',\n",
              "                        [{\"line\": {\"color\": \"black\"}, \"mode\": \"lines\", \"name\": \"BASE MODEL\", \"type\": \"scatter\", \"x\": [0, 1, 2, 3, 4, 5, 6], \"y\": [0.00019510300061719357, 0.0001468613459714056, 8.860614648449535e-05, 8.163605090974517e-05, 6.128074611053898e-05, 5.2138463216260496e-05, 3.994079596044769e-05]}, {\"line\": {\"dash\": \"dash\"}, \"mode\": \"lines\", \"name\": \"hid_sz=8, cnn_out=4\", \"type\": \"scatter\", \"x\": [0, 1, 2, 3, 4, 5, 6, 7, 8, 9, 10, 11, 12, 13, 14, 15, 16, 17, 18, 19, 20, 21, 22, 23, 24, 25, 26, 27, 28, 29, 30, 31, 32, 33, 34, 35, 36, 37, 38, 39, 40, 41, 42, 43, 44, 45, 46, 47, 48, 49], \"y\": [0.0025335969199099914, 0.0021760781605511983, 0.0016092506535583515, 0.0013015459976329722, 0.0009483596778180739, 0.0008329264211826456, 0.0007545038946453344, 0.0005948033700531453, 0.0005358201297613383, 0.0005216889770892422, 0.0004795282534286172, 0.0004695654327419345, 0.00043637094932194484, 0.0003894302200488414, 0.0003678635030906675, 0.0003556539007396925, 0.0003599624700932623, 0.00033722611380918857, 0.00031801657814555775, 0.00033090648092078064, 0.0003329652848362676, 0.00031413767221782863, 0.00028470871132152685, 0.00030680952378821116, 0.00029854447038835753, 0.00032098244929337517, 0.0003114463082587427, 0.00030011990294977366, 0.00028978411053927084, 0.0002921591944765573, 0.0003167037176777109, 0.0003173750667805872, 0.00026239903468950324, 0.0002585798042375854, 0.0002874955560419107, 0.0002254002396865486, 0.0002770553315487382, 0.0002528330559169651, 0.00022673100279713872, 0.00021544040277365645, 0.00019926238128123544, 0.00019707229131896378, 0.0001718056948604944, 0.00018710051931090937, 0.0001703257430603762, 0.0001711731348168955, 0.0001603181657668351, 0.00015099088889754183, 0.00014746406827709888, 0.00014606467836932586]}, {\"line\": {\"dash\": \"dash\"}, \"mode\": \"lines\", \"name\": \"hid_sz=8, cnn_out=8\", \"type\": \"scatter\", \"x\": [0, 1, 2, 3, 4, 5, 6, 7, 8, 9, 10, 11, 12, 13, 14, 15, 16, 17, 18, 19, 20, 21, 22, 23, 24, 25, 26, 27, 28, 29, 30, 31, 32, 33, 34, 35, 36, 37, 38, 39, 40, 41, 42, 43, 44, 45, 46, 47, 48, 49], \"y\": [0.0009722925273921622, 0.0007583857843468542, 0.0008090741335009021, 0.0007228788762391799, 0.0006631437249521513, 0.0005931384242780127, 0.0007632403843040966, 0.000608403410990522, 0.0005991835499776888, 0.0005345639609955122, 0.000506925264373547, 0.0003925273772434436, 0.00036098590450342466, 0.00031832987439356657, 0.0002714697070128083, 0.0003025964351959392, 0.0002440995500319935, 0.0002484707786351652, 0.00022091264390554504, 0.00022086490352489607, 0.00021674729569392208, 0.00020318306004203242, 0.0002207216823829492, 0.00018089128605275223, 0.00017179972731291328, 0.0001574119700948288, 0.0001414726505056527, 0.00014170538486131643, 0.00014284817022310124, 0.00013687167132060783, 0.00012039527244913078, 0.00011206159225209427, 0.00010416354302847966, 9.463336954142829e-05, 9.860775623045536e-05, 0.00010096493752499843, 0.00010695038774886353, 0.00010401435433895164, 9.984303857974755e-05, 8.810487248768112e-05, 9.070672323305019e-05, 0.0001018660372097478, 8.797955398847756e-05, 9.554043677375879e-05, 7.924604810350593e-05, 8.402306994219385e-05, 9.979529819909857e-05, 7.887307637968581e-05, 9.381581552281461e-05, 7.448692890756134e-05]}, {\"line\": {\"dash\": \"dash\"}, \"mode\": \"lines\", \"name\": \"hid_sz=8, cnn_out=16\", \"type\": \"scatter\", \"x\": [0, 1, 2, 3, 4, 5, 6, 7, 8, 9, 10, 11, 12, 13, 14, 15, 16, 17, 18, 19, 20, 21, 22, 23, 24, 25, 26, 27, 28, 29, 30, 31, 32, 33, 34, 35, 36, 37, 38, 39, 40, 41, 42, 43, 44, 45, 46, 47, 48, 49], \"y\": [0.0020731797376099164, 0.001030135966095975, 0.0007118926211423347, 0.0007158938617954769, 0.000580021754694707, 0.0005123706515413205, 0.0005020080051667028, 0.00047042774336740657, 0.0004253727591299375, 0.00038577509715540437, 0.0003202454571671067, 0.00030420767304284213, 0.00031106140143976035, 0.0002737373750936345, 0.00028071940576354697, 0.00022203454285079597, 0.00020992340503490938, 0.0001906273399313523, 0.0002337190010146323, 0.0002084285343658384, 0.0001947210775720018, 0.0001680998478126178, 0.00018265469636297366, 0.00016564121820919568, 0.0001612849084749768, 0.00016431642264618662, 0.00016833854971586267, 0.00016664376620282413, 0.00015842048563603837, 0.00014475480167526963, 0.00015217843086618503, 0.00014562009607453226, 0.00014563799871727568, 0.0001545833525413771, 0.00013497995873739223, 0.00014730891203998972, 0.00013882902692721576, 0.0001324139132775099, 0.00015559783563016778, 0.00014130555917338128, 0.00014908127367158286, 0.0001315545864258284, 0.00013866790314252545, 0.00014314356382836676, 0.00016305130255898882, 0.00014283026758035787, 0.0001422484316911985, 0.00012530059656081283, 0.00014143684522016596, 0.00012022221356927823]}, {\"line\": {\"dash\": \"dash\"}, \"mode\": \"lines\", \"name\": \"hid_sz=16, cnn_out=4\", \"type\": \"scatter\", \"x\": [0, 1, 2, 3, 4, 5, 6, 7, 8, 9, 10, 11, 12, 13, 14, 15, 16, 17, 18, 19], \"y\": [0.001260172990253055, 0.0006067921731436191, 0.00040931707236292953, 0.00032228934221364096, 0.00024173341741607878, 0.0001806555679232979, 0.00016624394051488895, 0.00015420739704376645, 0.00013934820356677335, 0.0001234804945485707, 0.0001274906865230845, 0.0001030714818211344, 0.00010208086892266819, 9.208522672428931e-05, 7.852695861998076e-05, 7.156283059281171e-05, 6.83761601844927e-05, 5.9800794310420786e-05, 5.5987531406084004e-05, 5.2263781715464045e-05]}, {\"line\": {\"dash\": \"dash\"}, \"mode\": \"lines\", \"name\": \"hid_sz=16, cnn_out=8\", \"type\": \"scatter\", \"x\": [0, 1, 2, 3, 4, 5, 6, 7, 8, 9, 10, 11, 12, 13, 14, 15, 16, 17, 18, 19, 20, 21, 22, 23, 24, 25, 26, 27, 28, 29, 30], \"y\": [0.0012510008696208711, 0.00042260381705229704, 0.000404462472405687, 0.0002460002139365808, 0.00020282202341337456, 0.00016982745283735255, 0.00015530542579869286, 0.00014369257820582996, 0.00013965553226720113, 0.00013256906951461905, 0.0001341445020760352, 0.00012574816262939694, 0.00012050865585317207, 0.000128153084304589, 0.00010460215777569213, 0.0001086213010715776, 8.933418728939219e-05, 8.834954193850711e-05, 0.00010322663805824356, 0.00010943288754261014, 0.00010088735940644384, 0.00010612686618266873, 9.399484195024824e-05, 8.979965600071969e-05, 9.768278635538148e-05, 8.616541952381655e-05, 7.088849771614495e-05, 8.012029382414026e-05, 7.49165923334021e-05, 6.225942391384294e-05, 5.403017579947608e-05]}, {\"line\": {\"dash\": \"dash\"}, \"mode\": \"lines\", \"name\": \"hid_sz=16, cnn_out=16\", \"type\": \"scatter\", \"x\": [0, 1, 2, 3, 4, 5, 6, 7, 8, 9, 10, 11, 12, 13, 14, 15, 16, 17, 18, 19, 20, 21, 22, 23, 24, 25, 26, 27, 28, 29, 30], \"y\": [0.0012783620752803144, 0.0006074903762106103, 0.0003566445136381586, 0.0002638789864896215, 0.00023803353791578325, 0.00024482759083689035, 0.00018968745118732563, 0.00016943956224457966, 0.00015905304567963727, 0.00014491592545995993, 0.00011753084961019233, 0.0001350605206297374, 0.00010871379805908498, 0.00010813792971750674, 9.536737789390625e-05, 9.296842376629532e-05, 7.870896882120496e-05, 9.270585167272597e-05, 7.468982552531948e-05, 7.077511431210362e-05, 6.952789686764918e-05, 7.13121935944046e-05, 6.529093808505277e-05, 6.893114210953702e-05, 6.583398491493484e-05, 5.869978178170383e-05, 6.262941186387249e-05, 6.15910585847573e-05, 5.7085560161010404e-05, 5.796875720301642e-05, 5.370196068251439e-05]}, {\"line\": {\"dash\": \"dash\"}, \"mode\": \"lines\", \"name\": \"hid_sz=32, cnn_out=4\", \"type\": \"scatter\", \"x\": [0, 1, 2, 3, 4, 5, 6, 7, 8, 9, 10, 11, 12, 13], \"y\": [0.0012942238167509357, 0.000535265147836294, 0.00032998747859328795, 0.00019825088196623528, 0.00017239051452344433, 0.0001377906736481006, 0.0001147261022470651, 9.541213450076465e-05, 8.344421782682505e-05, 7.538802859231072e-05, 6.495675542050995e-05, 6.733780690537751e-05, 5.9263715028119834e-05, 5.493127548422546e-05]}, {\"line\": {\"dash\": \"dash\"}, \"mode\": \"lines\", \"name\": \"hid_sz=32, cnn_out=8\", \"type\": \"scatter\", \"x\": [0, 1, 2, 3, 4, 5, 6, 7, 8, 9, 10], \"y\": [0.0006135474370054488, 0.0002559869048135879, 0.00021211349499718107, 0.0001450710816970691, 0.00011750101187228671, 0.00010989238870635653, 8.628477047543899e-05, 7.170605173475863e-05, 7.03663373027968e-05, 5.9150331624078514e-05, 5.2884406663900705e-05]}, {\"line\": {\"dash\": \"dash\"}, \"mode\": \"lines\", \"name\": \"hid_sz=32, cnn_out=16\", \"type\": \"scatter\", \"x\": [0, 1, 2, 3, 4, 5, 6, 7, 8, 9], \"y\": [0.0004633144266507095, 0.00032101527080507147, 0.00020516428583896483, 0.00013207376306538596, 9.191216784443679e-05, 8.58491395020171e-05, 7.745876760295997e-05, 7.28279506800095e-05, 6.745119030941883e-05, 5.0199010252395936e-05]}, {\"line\": {\"dash\": \"dash\"}, \"mode\": \"lines\", \"name\": \"hid_sz=64, cnn_out=4\", \"type\": \"scatter\", \"x\": [0, 1, 2, 3, 4, 5, 6, 7], \"y\": [0.00020163149767094077, 0.00015254841881621464, 9.178684934523323e-05, 8.130783579278348e-05, 6.930113005956657e-05, 5.718104092230835e-05, 6.237280731788425e-05, 4.6946696820684596e-05]}],\n",
              "                        {\"template\": {\"data\": {\"bar\": [{\"error_x\": {\"color\": \"#2a3f5f\"}, \"error_y\": {\"color\": \"#2a3f5f\"}, \"marker\": {\"line\": {\"color\": \"#E5ECF6\", \"width\": 0.5}}, \"type\": \"bar\"}], \"barpolar\": [{\"marker\": {\"line\": {\"color\": \"#E5ECF6\", \"width\": 0.5}}, \"type\": \"barpolar\"}], \"carpet\": [{\"aaxis\": {\"endlinecolor\": \"#2a3f5f\", \"gridcolor\": \"white\", \"linecolor\": \"white\", \"minorgridcolor\": \"white\", \"startlinecolor\": \"#2a3f5f\"}, \"baxis\": {\"endlinecolor\": \"#2a3f5f\", \"gridcolor\": \"white\", \"linecolor\": \"white\", \"minorgridcolor\": \"white\", \"startlinecolor\": \"#2a3f5f\"}, \"type\": \"carpet\"}], \"choropleth\": [{\"colorbar\": {\"outlinewidth\": 0, \"ticks\": \"\"}, \"type\": \"choropleth\"}], \"contour\": [{\"colorbar\": {\"outlinewidth\": 0, \"ticks\": \"\"}, \"colorscale\": [[0.0, \"#0d0887\"], [0.1111111111111111, \"#46039f\"], [0.2222222222222222, \"#7201a8\"], [0.3333333333333333, \"#9c179e\"], [0.4444444444444444, \"#bd3786\"], [0.5555555555555556, \"#d8576b\"], [0.6666666666666666, \"#ed7953\"], [0.7777777777777778, \"#fb9f3a\"], [0.8888888888888888, \"#fdca26\"], [1.0, \"#f0f921\"]], \"type\": \"contour\"}], \"contourcarpet\": [{\"colorbar\": {\"outlinewidth\": 0, \"ticks\": \"\"}, \"type\": \"contourcarpet\"}], \"heatmap\": [{\"colorbar\": {\"outlinewidth\": 0, \"ticks\": \"\"}, \"colorscale\": [[0.0, \"#0d0887\"], [0.1111111111111111, \"#46039f\"], [0.2222222222222222, \"#7201a8\"], [0.3333333333333333, \"#9c179e\"], [0.4444444444444444, \"#bd3786\"], [0.5555555555555556, \"#d8576b\"], [0.6666666666666666, \"#ed7953\"], [0.7777777777777778, \"#fb9f3a\"], [0.8888888888888888, \"#fdca26\"], [1.0, \"#f0f921\"]], \"type\": \"heatmap\"}], \"heatmapgl\": [{\"colorbar\": {\"outlinewidth\": 0, \"ticks\": \"\"}, \"colorscale\": [[0.0, \"#0d0887\"], [0.1111111111111111, \"#46039f\"], [0.2222222222222222, \"#7201a8\"], [0.3333333333333333, \"#9c179e\"], [0.4444444444444444, \"#bd3786\"], [0.5555555555555556, \"#d8576b\"], [0.6666666666666666, \"#ed7953\"], [0.7777777777777778, \"#fb9f3a\"], [0.8888888888888888, \"#fdca26\"], [1.0, \"#f0f921\"]], \"type\": \"heatmapgl\"}], \"histogram\": [{\"marker\": {\"colorbar\": {\"outlinewidth\": 0, \"ticks\": \"\"}}, \"type\": \"histogram\"}], \"histogram2d\": [{\"colorbar\": {\"outlinewidth\": 0, \"ticks\": \"\"}, \"colorscale\": [[0.0, \"#0d0887\"], [0.1111111111111111, \"#46039f\"], [0.2222222222222222, \"#7201a8\"], [0.3333333333333333, \"#9c179e\"], [0.4444444444444444, \"#bd3786\"], [0.5555555555555556, \"#d8576b\"], [0.6666666666666666, \"#ed7953\"], [0.7777777777777778, \"#fb9f3a\"], [0.8888888888888888, \"#fdca26\"], [1.0, \"#f0f921\"]], \"type\": \"histogram2d\"}], \"histogram2dcontour\": [{\"colorbar\": {\"outlinewidth\": 0, \"ticks\": \"\"}, \"colorscale\": [[0.0, \"#0d0887\"], [0.1111111111111111, \"#46039f\"], [0.2222222222222222, \"#7201a8\"], [0.3333333333333333, \"#9c179e\"], [0.4444444444444444, \"#bd3786\"], [0.5555555555555556, \"#d8576b\"], [0.6666666666666666, \"#ed7953\"], [0.7777777777777778, \"#fb9f3a\"], [0.8888888888888888, \"#fdca26\"], [1.0, \"#f0f921\"]], \"type\": \"histogram2dcontour\"}], \"mesh3d\": [{\"colorbar\": {\"outlinewidth\": 0, \"ticks\": \"\"}, \"type\": \"mesh3d\"}], \"parcoords\": [{\"line\": {\"colorbar\": {\"outlinewidth\": 0, \"ticks\": \"\"}}, \"type\": \"parcoords\"}], \"pie\": [{\"automargin\": true, \"type\": \"pie\"}], \"scatter\": [{\"marker\": {\"colorbar\": {\"outlinewidth\": 0, \"ticks\": \"\"}}, \"type\": \"scatter\"}], \"scatter3d\": [{\"line\": {\"colorbar\": {\"outlinewidth\": 0, \"ticks\": \"\"}}, \"marker\": {\"colorbar\": {\"outlinewidth\": 0, \"ticks\": \"\"}}, \"type\": \"scatter3d\"}], \"scattercarpet\": [{\"marker\": {\"colorbar\": {\"outlinewidth\": 0, \"ticks\": \"\"}}, \"type\": \"scattercarpet\"}], \"scattergeo\": [{\"marker\": {\"colorbar\": {\"outlinewidth\": 0, \"ticks\": \"\"}}, \"type\": \"scattergeo\"}], \"scattergl\": [{\"marker\": {\"colorbar\": {\"outlinewidth\": 0, \"ticks\": \"\"}}, \"type\": \"scattergl\"}], \"scattermapbox\": [{\"marker\": {\"colorbar\": {\"outlinewidth\": 0, \"ticks\": \"\"}}, \"type\": \"scattermapbox\"}], \"scatterpolar\": [{\"marker\": {\"colorbar\": {\"outlinewidth\": 0, \"ticks\": \"\"}}, \"type\": \"scatterpolar\"}], \"scatterpolargl\": [{\"marker\": {\"colorbar\": {\"outlinewidth\": 0, \"ticks\": \"\"}}, \"type\": \"scatterpolargl\"}], \"scatterternary\": [{\"marker\": {\"colorbar\": {\"outlinewidth\": 0, \"ticks\": \"\"}}, \"type\": \"scatterternary\"}], \"surface\": [{\"colorbar\": {\"outlinewidth\": 0, \"ticks\": \"\"}, \"colorscale\": [[0.0, \"#0d0887\"], [0.1111111111111111, \"#46039f\"], [0.2222222222222222, \"#7201a8\"], [0.3333333333333333, \"#9c179e\"], [0.4444444444444444, \"#bd3786\"], [0.5555555555555556, \"#d8576b\"], [0.6666666666666666, \"#ed7953\"], [0.7777777777777778, \"#fb9f3a\"], [0.8888888888888888, \"#fdca26\"], [1.0, \"#f0f921\"]], \"type\": \"surface\"}], \"table\": [{\"cells\": {\"fill\": {\"color\": \"#EBF0F8\"}, \"line\": {\"color\": \"white\"}}, \"header\": {\"fill\": {\"color\": \"#C8D4E3\"}, \"line\": {\"color\": \"white\"}}, \"type\": \"table\"}]}, \"layout\": {\"annotationdefaults\": {\"arrowcolor\": \"#2a3f5f\", \"arrowhead\": 0, \"arrowwidth\": 1}, \"coloraxis\": {\"colorbar\": {\"outlinewidth\": 0, \"ticks\": \"\"}}, \"colorscale\": {\"diverging\": [[0, \"#8e0152\"], [0.1, \"#c51b7d\"], [0.2, \"#de77ae\"], [0.3, \"#f1b6da\"], [0.4, \"#fde0ef\"], [0.5, \"#f7f7f7\"], [0.6, \"#e6f5d0\"], [0.7, \"#b8e186\"], [0.8, \"#7fbc41\"], [0.9, \"#4d9221\"], [1, \"#276419\"]], \"sequential\": [[0.0, \"#0d0887\"], [0.1111111111111111, \"#46039f\"], [0.2222222222222222, \"#7201a8\"], [0.3333333333333333, \"#9c179e\"], [0.4444444444444444, \"#bd3786\"], [0.5555555555555556, \"#d8576b\"], [0.6666666666666666, \"#ed7953\"], [0.7777777777777778, \"#fb9f3a\"], [0.8888888888888888, \"#fdca26\"], [1.0, \"#f0f921\"]], \"sequentialminus\": [[0.0, \"#0d0887\"], [0.1111111111111111, \"#46039f\"], [0.2222222222222222, \"#7201a8\"], [0.3333333333333333, \"#9c179e\"], [0.4444444444444444, \"#bd3786\"], [0.5555555555555556, \"#d8576b\"], [0.6666666666666666, \"#ed7953\"], [0.7777777777777778, \"#fb9f3a\"], [0.8888888888888888, \"#fdca26\"], [1.0, \"#f0f921\"]]}, \"colorway\": [\"#636efa\", \"#EF553B\", \"#00cc96\", \"#ab63fa\", \"#FFA15A\", \"#19d3f3\", \"#FF6692\", \"#B6E880\", \"#FF97FF\", \"#FECB52\"], \"font\": {\"color\": \"#2a3f5f\"}, \"geo\": {\"bgcolor\": \"white\", \"lakecolor\": \"white\", \"landcolor\": \"#E5ECF6\", \"showlakes\": true, \"showland\": true, \"subunitcolor\": \"white\"}, \"hoverlabel\": {\"align\": \"left\"}, \"hovermode\": \"closest\", \"mapbox\": {\"style\": \"light\"}, \"paper_bgcolor\": \"white\", \"plot_bgcolor\": \"#E5ECF6\", \"polar\": {\"angularaxis\": {\"gridcolor\": \"white\", \"linecolor\": \"white\", \"ticks\": \"\"}, \"bgcolor\": \"#E5ECF6\", \"radialaxis\": {\"gridcolor\": \"white\", \"linecolor\": \"white\", \"ticks\": \"\"}}, \"scene\": {\"xaxis\": {\"backgroundcolor\": \"#E5ECF6\", \"gridcolor\": \"white\", \"gridwidth\": 2, \"linecolor\": \"white\", \"showbackground\": true, \"ticks\": \"\", \"zerolinecolor\": \"white\"}, \"yaxis\": {\"backgroundcolor\": \"#E5ECF6\", \"gridcolor\": \"white\", \"gridwidth\": 2, \"linecolor\": \"white\", \"showbackground\": true, \"ticks\": \"\", \"zerolinecolor\": \"white\"}, \"zaxis\": {\"backgroundcolor\": \"#E5ECF6\", \"gridcolor\": \"white\", \"gridwidth\": 2, \"linecolor\": \"white\", \"showbackground\": true, \"ticks\": \"\", \"zerolinecolor\": \"white\"}}, \"shapedefaults\": {\"line\": {\"color\": \"#2a3f5f\"}}, \"ternary\": {\"aaxis\": {\"gridcolor\": \"white\", \"linecolor\": \"white\", \"ticks\": \"\"}, \"baxis\": {\"gridcolor\": \"white\", \"linecolor\": \"white\", \"ticks\": \"\"}, \"bgcolor\": \"#E5ECF6\", \"caxis\": {\"gridcolor\": \"white\", \"linecolor\": \"white\", \"ticks\": \"\"}}, \"title\": {\"x\": 0.05}, \"xaxis\": {\"automargin\": true, \"gridcolor\": \"white\", \"linecolor\": \"white\", \"ticks\": \"\", \"title\": {\"standoff\": 15}, \"zerolinecolor\": \"white\", \"zerolinewidth\": 2}, \"yaxis\": {\"automargin\": true, \"gridcolor\": \"white\", \"linecolor\": \"white\", \"ticks\": \"\", \"title\": {\"standoff\": 15}, \"zerolinecolor\": \"white\", \"zerolinewidth\": 2}}}, \"title\": {\"text\": \"FA_FR on validation\"}, \"xaxis\": {\"title\": {\"text\": \"epochs\"}}, \"yaxis\": {\"title\": {\"text\": \"FA_FR\"}}},\n",
              "                        {\"responsive\": true}\n",
              "                    ).then(function(){\n",
              "                            \n",
              "var gd = document.getElementById('2db74af6-6675-48e3-8d95-ec8c502d3873');\n",
              "var x = new MutationObserver(function (mutations, observer) {{\n",
              "        var display = window.getComputedStyle(gd).display;\n",
              "        if (!display || display === 'none') {{\n",
              "            console.log([gd, 'removed!']);\n",
              "            Plotly.purge(gd);\n",
              "            observer.disconnect();\n",
              "        }}\n",
              "}});\n",
              "\n",
              "// Listen for the removal of the full notebook cells\n",
              "var notebookContainer = gd.closest('#notebook-container');\n",
              "if (notebookContainer) {{\n",
              "    x.observe(notebookContainer, {childList: true});\n",
              "}}\n",
              "\n",
              "// Listen for the clearing of the current output cell\n",
              "var outputEl = gd.closest('.output');\n",
              "if (outputEl) {{\n",
              "    x.observe(outputEl, {childList: true});\n",
              "}}\n",
              "\n",
              "                        })\n",
              "                };\n",
              "                \n",
              "            </script>\n",
              "        </div>\n",
              "</body>\n",
              "</html>"
            ]
          },
          "metadata": {}
        }
      ]
    }
  ]
}